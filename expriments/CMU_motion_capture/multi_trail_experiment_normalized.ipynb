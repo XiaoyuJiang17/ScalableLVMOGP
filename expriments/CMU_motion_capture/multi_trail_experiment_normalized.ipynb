{
 "cells": [
  {
   "cell_type": "code",
   "execution_count": 1,
   "metadata": {},
   "outputs": [],
   "source": [
    "import sys\n",
    "sys.path.append('/Users/jiangxiaoyu/Desktop/All Projects/GPLVM_project_code/')\n",
    "import numpy as np\n",
    "import random\n",
    "import torch\n",
    "from gpytorch.kernels import ScaleKernel, RBFKernel\n",
    "from linear_operator.operators import KroneckerProductLinearOperator\n",
    "from torch import Tensor\n",
    "from torch.distributions import MultivariateNormal\n",
    "from models_.lvmogp_svi import LVMOGP_SVI\n",
    "from models_.gaussian_likelihood import GaussianLikelihood\n",
    "from models_.variational_elbo import VariationalELBO\n",
    "from tqdm import trange\n",
    "from torch.optim.lr_scheduler import StepLR\n",
    "from util_functions import *\n",
    "import yaml\n",
    "import time"
   ]
  },
  {
   "cell_type": "markdown",
   "metadata": {},
   "source": [
    "## Experi random seed"
   ]
  },
  {
   "cell_type": "code",
   "execution_count": 2,
   "metadata": {},
   "outputs": [],
   "source": [
    "expri_random_seed = 67 # 18 # 198"
   ]
  },
  {
   "cell_type": "markdown",
   "metadata": {},
   "source": [
    "## Read in and joint different piece of trails as different outputs (with truncation length 200)... "
   ]
  },
  {
   "cell_type": "code",
   "execution_count": 3,
   "metadata": {},
   "outputs": [
    {
     "name": "stdout",
     "output_type": "stream",
     "text": [
      "w_C_08_02 has shape torch.Size([62, 309])\n",
      "w_C_08_03 has shape torch.Size([62, 353])\n",
      "w_C_08_08 has shape torch.Size([62, 283])\n",
      "w_C_08_09 has shape torch.Size([62, 293])\n"
     ]
    }
   ],
   "source": [
    "# Subject 08\n",
    "\n",
    "synth_data_path = '/Users/jiangxiaoyu/Desktop/All Projects/GPLVM_project_code/data/CMU_motion_capture'\n",
    "w_C_08_02 = Tensor(pd.read_csv(f'{synth_data_path}/08_02.csv').to_numpy()).reshape(-1).reshape(62, -1)\n",
    "w_C_08_03 = Tensor(pd.read_csv(f'{synth_data_path}/08_03.csv').to_numpy()).reshape(-1).reshape(62, -1)\n",
    "w_C_08_08 = Tensor(pd.read_csv(f'{synth_data_path}/08_08.csv').to_numpy()).reshape(-1).reshape(62, -1)\n",
    "w_C_08_09 = Tensor(pd.read_csv(f'{synth_data_path}/08_09.csv').to_numpy()).reshape(-1).reshape(62, -1)\n",
    "\n",
    "print('w_C_08_02 has shape', w_C_08_02.shape)\n",
    "print('w_C_08_03 has shape', w_C_08_03.shape)\n",
    "print('w_C_08_08 has shape', w_C_08_08.shape)\n",
    "print('w_C_08_09 has shape', w_C_08_09.shape)\n",
    "\n",
    "w_C_08_02_ = w_C_08_02[:, 55:255]\n",
    "w_C_08_03_ = w_C_08_03[:, 77:277]\n",
    "w_C_08_08_ = w_C_08_08[:, 42:242]\n",
    "w_C_08_09_ = w_C_08_09[:, 47:247]\n",
    "\n",
    "assert w_C_08_09_.shape == w_C_08_08_.shape == w_C_08_03_.shape == w_C_08_02_.shape == torch.Size([62, 200])\n"
   ]
  },
  {
   "cell_type": "code",
   "execution_count": null,
   "metadata": {},
   "outputs": [],
   "source": [
    "# Subject 09\n",
    "'''\n",
    "synth_data_path = '/Users/jiangxiaoyu/Desktop/All Projects/GPLVM_project_code/data/CMU_motion_capture'\n",
    "w_C_09_01 = Tensor(pd.read_csv(f'{synth_data_path}/09_01.csv').to_numpy()).reshape(-1).reshape(62, -1)\n",
    "w_C_09_02 = Tensor(pd.read_csv(f'{synth_data_path}/09_02.csv').to_numpy()).reshape(-1).reshape(62, -1)\n",
    "w_C_09_03 = Tensor(pd.read_csv(f'{synth_data_path}/09_03.csv').to_numpy()).reshape(-1).reshape(62, -1)\n",
    "w_C_09_05 = Tensor(pd.read_csv(f'{synth_data_path}/09_05.csv').to_numpy()).reshape(-1).reshape(62, -1)\n",
    "w_C_09_06 = Tensor(pd.read_csv(f'{synth_data_path}/09_06.csv').to_numpy()).reshape(-1).reshape(62, -1)\n",
    "w_C_09_11 = Tensor(pd.read_csv(f'{synth_data_path}/09_11.csv').to_numpy()).reshape(-1).reshape(62, -1)\n",
    "\n",
    "print('w_C_09_01 has shape', w_C_09_01.shape)\n",
    "print('w_C_09_02 has shape', w_C_09_02.shape)\n",
    "print('w_C_09_03 has shape', w_C_09_03.shape)\n",
    "print('w_C_09_05 has shape', w_C_09_05.shape)\n",
    "print('w_C_09_06 has shape', w_C_09_06.shape)\n",
    "print('w_C_09_11 has shape', w_C_09_11.shape)\n",
    "\n",
    "w_C_09_01_ = w_C_09_01[:, 24:124]\n",
    "w_C_09_02_ = w_C_09_02[:, 15:115]\n",
    "w_C_09_03_ = w_C_09_03[:, 14:114]\n",
    "w_C_09_05_ = w_C_09_05[:, 22:122]\n",
    "w_C_09_06_ = w_C_09_06[:, 21:121]\n",
    "w_C_09_11_ = w_C_09_11[:, 33:133]\n",
    "\n",
    "assert w_C_09_01_.shape == w_C_09_02_.shape == w_C_09_03_.shape == w_C_09_05_.shape == w_C_09_06_.shape == w_C_09_11_.shape == torch.Size([62, 100])\n",
    "'''"
   ]
  },
  {
   "cell_type": "code",
   "execution_count": null,
   "metadata": {},
   "outputs": [],
   "source": [
    "# Subject 64\n",
    "'''\n",
    "synth_data_path = '/Users/jiangxiaoyu/Desktop/All Projects/GPLVM_project_code/data/CMU_motion_capture'\n",
    "w_C_64_03 = Tensor(pd.read_csv(f'{synth_data_path}/64_03.csv').to_numpy()).reshape(-1).reshape(62, -1)\n",
    "w_C_64_04 = Tensor(pd.read_csv(f'{synth_data_path}/64_04.csv').to_numpy()).reshape(-1).reshape(62, -1)\n",
    "w_C_64_05 = Tensor(pd.read_csv(f'{synth_data_path}/64_05.csv').to_numpy()).reshape(-1).reshape(62, -1)\n",
    "w_C_64_07 = Tensor(pd.read_csv(f'{synth_data_path}/64_07.csv').to_numpy()).reshape(-1).reshape(62, -1)\n",
    "w_C_64_08 = Tensor(pd.read_csv(f'{synth_data_path}/64_08.csv').to_numpy()).reshape(-1).reshape(62, -1)\n",
    "w_C_64_09 = Tensor(pd.read_csv(f'{synth_data_path}/64_09.csv').to_numpy()).reshape(-1).reshape(62, -1)\n",
    "\n",
    "print('w_C_64_03 has shape', w_C_64_03.shape)\n",
    "print('w_C_64_04 has shape', w_C_64_04.shape)\n",
    "print('w_C_64_05 has shape', w_C_64_05.shape)\n",
    "print('w_C_64_07 has shape', w_C_64_07.shape)\n",
    "print('w_C_64_08 has shape', w_C_64_08.shape)\n",
    "print('w_C_64_09 has shape', w_C_64_09.shape)\n",
    "\n",
    "w_C_64_03_ = w_C_64_03[:, 72:372]\n",
    "w_C_64_04_ = w_C_64_04[:, 56:356]\n",
    "w_C_64_05_ = w_C_64_05[:, 44:344]\n",
    "w_C_64_07_ = w_C_64_07[:, 38:338]\n",
    "w_C_64_08_ = w_C_64_08[:, 32:332]\n",
    "w_C_64_09_ = w_C_64_09[:, 76:376]\n",
    "\n",
    "assert w_C_64_03_.shape == w_C_64_04_.shape == w_C_64_05_.shape == w_C_64_07_.shape == w_C_64_08_.shape == w_C_64_09_.shape == torch.Size([62, 300])\n",
    "'''"
   ]
  },
  {
   "cell_type": "code",
   "execution_count": null,
   "metadata": {},
   "outputs": [],
   "source": [
    "# Subject 118\n",
    "'''\n",
    "synth_data_path = '/Users/jiangxiaoyu/Desktop/All Projects/GPLVM_project_code/data/CMU_motion_capture'\n",
    "w_C_118_03 = Tensor(pd.read_csv(f'{synth_data_path}/118_03.csv').to_numpy()).reshape(-1).reshape(62, -1)\n",
    "w_C_118_04 = Tensor(pd.read_csv(f'{synth_data_path}/118_04.csv').to_numpy()).reshape(-1).reshape(62, -1)\n",
    "w_C_118_11 = Tensor(pd.read_csv(f'{synth_data_path}/118_11.csv').to_numpy()).reshape(-1).reshape(62, -1)\n",
    "w_C_118_17 = Tensor(pd.read_csv(f'{synth_data_path}/118_17.csv').to_numpy()).reshape(-1).reshape(62, -1)\n",
    "\n",
    "print('w_C_118_03 has shape', w_C_118_03.shape)\n",
    "print('w_C_118_04 has shape', w_C_118_04.shape)\n",
    "print('w_C_118_11 has shape', w_C_118_11.shape)\n",
    "print('w_C_118_17 has shape', w_C_118_17.shape)\n",
    "\n",
    "w_C_118_03_ = w_C_118_03[:, 49:449]\n",
    "w_C_118_04_ = w_C_118_04[:, 123:523]\n",
    "w_C_118_11_ = w_C_118_11[:, 146:546]\n",
    "w_C_118_17_ = w_C_118_17[:, 123:523]\n",
    "'''"
   ]
  },
  {
   "cell_type": "markdown",
   "metadata": {},
   "source": [
    "## filter out noisy outputs (low signal-to-noise ratio)"
   ]
  },
  {
   "cell_type": "code",
   "execution_count": 4,
   "metadata": {},
   "outputs": [
    {
     "name": "stdout",
     "output_type": "stream",
     "text": [
      "19\n"
     ]
    }
   ],
   "source": [
    "# Subject 08\n",
    "\n",
    "snr_list_08_02, snr_index_08_02 = compute_signal_to_noise_ratio(w_C_08_02_)\n",
    "snr_list_08_03, snr_index_08_03 = compute_signal_to_noise_ratio(w_C_08_03_)\n",
    "snr_list_08_08, snr_index_08_08 = compute_signal_to_noise_ratio(w_C_08_08_)\n",
    "snr_list_08_09, snr_index_08_09 = compute_signal_to_noise_ratio(w_C_08_09_)\n",
    "\n",
    "inf_indices_08_02 = [index for index, value in enumerate(snr_list_08_02) if value == float('inf')]\n",
    "inf_indices_08_03 = [index for index, value in enumerate(snr_list_08_03) if value == float('inf')]\n",
    "inf_indices_08_08 = [index for index, value in enumerate(snr_list_08_08) if value == float('inf')]\n",
    "inf_indices_08_09 = [index for index, value in enumerate(snr_list_08_09) if value == float('inf')]\n",
    "inf_to_exclude = list(set(inf_indices_08_02) & set(inf_indices_08_03) & set(inf_indices_08_08) & set(inf_indices_08_09))\n",
    "\n",
    "common_idxs_list_ = list(set(snr_index_08_02[:30]) & set(snr_index_08_03[:30]) & set(snr_index_08_08[:30]) & set(snr_index_08_09[:30]))\n",
    "common_idxs_list = list(set(common_idxs_list_) - set(inf_to_exclude))\n",
    "print(len(common_idxs_list))\n",
    "\n",
    "w_C_08_02_ = w_C_08_02_[common_idxs_list,:]\n",
    "w_C_08_03_ = w_C_08_03_[common_idxs_list,:]\n",
    "w_C_08_08_ = w_C_08_08_[common_idxs_list,:]\n",
    "w_C_08_09_ = w_C_08_09_[common_idxs_list,:]\n"
   ]
  },
  {
   "cell_type": "code",
   "execution_count": null,
   "metadata": {},
   "outputs": [],
   "source": [
    "# Subject 09\n",
    "'''\n",
    "snr_list_09_01, snr_index_09_01 = compute_signal_to_noise_ratio(w_C_09_01_)\n",
    "snr_list_09_02, snr_index_09_02 = compute_signal_to_noise_ratio(w_C_09_02_)\n",
    "snr_list_09_03, snr_index_09_03 = compute_signal_to_noise_ratio(w_C_09_03_)\n",
    "snr_list_09_05, snr_index_09_05 = compute_signal_to_noise_ratio(w_C_09_05_)\n",
    "snr_list_09_06, snr_index_09_06 = compute_signal_to_noise_ratio(w_C_09_06_)\n",
    "snr_list_09_11, snr_index_09_11 = compute_signal_to_noise_ratio(w_C_09_11_)\n",
    "\n",
    "inf_indices_09_01 = [index for index, value in enumerate(snr_list_09_01) if value == float('inf')]\n",
    "inf_indices_09_02 = [index for index, value in enumerate(snr_list_09_02) if value == float('inf')]\n",
    "inf_indices_09_03 = [index for index, value in enumerate(snr_list_09_03) if value == float('inf')]\n",
    "inf_indices_09_05 = [index for index, value in enumerate(snr_list_09_05) if value == float('inf')]\n",
    "inf_indices_09_06 = [index for index, value in enumerate(snr_list_09_06) if value == float('inf')]\n",
    "inf_indices_09_11 = [index for index, value in enumerate(snr_list_09_11) if value == float('inf')]\n",
    "inf_to_exclude = list(set(inf_indices_09_01) & set(inf_indices_09_02) & set(inf_indices_09_03) & set(inf_indices_09_05) & set(inf_indices_09_06) & set(inf_indices_09_11))\n",
    "\n",
    "common_idxs_list_ = list(set(snr_index_09_01[:30]) & set(snr_index_09_02[:30]) & set(snr_index_09_03[:30]) & set(snr_index_09_05[:30]) & set(snr_index_09_06[:30]) & set(snr_index_09_11[:30]))\n",
    "common_idxs_list = list(set(common_idxs_list_) - set(inf_to_exclude))\n",
    "print(len(common_idxs_list))\n",
    "\n",
    "w_C_09_01_ = w_C_09_01_[common_idxs_list,:]\n",
    "w_C_09_02_ = w_C_09_02_[common_idxs_list,:]\n",
    "w_C_09_03_ = w_C_09_03_[common_idxs_list,:]\n",
    "w_C_09_05_ = w_C_09_05_[common_idxs_list,:]\n",
    "w_C_09_06_ = w_C_09_06_[common_idxs_list,:]\n",
    "w_C_09_11_ = w_C_09_11_[common_idxs_list,:]\n",
    "'''"
   ]
  },
  {
   "cell_type": "code",
   "execution_count": null,
   "metadata": {},
   "outputs": [],
   "source": [
    "# Subject 64\n",
    "'''\n",
    "snr_list_64_03, snr_index_64_03 = compute_signal_to_noise_ratio(w_C_64_03_)\n",
    "snr_list_64_04, snr_index_64_04 = compute_signal_to_noise_ratio(w_C_64_04_)\n",
    "snr_list_64_05, snr_index_64_05 = compute_signal_to_noise_ratio(w_C_64_05_)\n",
    "snr_list_64_07, snr_index_64_07 = compute_signal_to_noise_ratio(w_C_64_07_)\n",
    "snr_list_64_08, snr_index_64_08 = compute_signal_to_noise_ratio(w_C_64_08_)\n",
    "snr_list_64_09, snr_index_64_09 = compute_signal_to_noise_ratio(w_C_64_09_)\n",
    "\n",
    "inf_indices_64_03 = [index for index, value in enumerate(snr_list_64_03) if value == float('inf')]\n",
    "inf_indices_64_04 = [index for index, value in enumerate(snr_list_64_04) if value == float('inf')]\n",
    "inf_indices_64_05 = [index for index, value in enumerate(snr_list_64_05) if value == float('inf')]\n",
    "inf_indices_64_07 = [index for index, value in enumerate(snr_list_64_07) if value == float('inf')]\n",
    "inf_indices_64_08 = [index for index, value in enumerate(snr_list_64_08) if value == float('inf')]\n",
    "inf_indices_64_09 = [index for index, value in enumerate(snr_list_64_09) if value == float('inf')]\n",
    "inf_to_exclude = list(set(inf_indices_64_03) & set(inf_indices_64_04) & set(inf_indices_64_05) & set(inf_indices_64_07) & set(inf_indices_64_08) & set(inf_indices_64_09))\n",
    "\n",
    "common_idxs_list_ = list(set(snr_index_64_03[:30]) & set(snr_index_64_04[:30]) & set(snr_index_64_05[:30]) & set(snr_index_64_07[:30]) & set(snr_index_64_08[:30]) & set(snr_index_64_09[:30]))\n",
    "common_idxs_list = list(set(common_idxs_list_) - set(inf_to_exclude))\n",
    "print(len(common_idxs_list))\n",
    "\n",
    "w_C_64_03_ = w_C_64_03_[common_idxs_list,:]\n",
    "w_C_64_04_ = w_C_64_04_[common_idxs_list,:]\n",
    "w_C_64_05_ = w_C_64_05_[common_idxs_list,:]\n",
    "w_C_64_07_ = w_C_64_07_[common_idxs_list,:]\n",
    "w_C_64_08_ = w_C_64_08_[common_idxs_list,:]\n",
    "w_C_64_09_ = w_C_64_09_[common_idxs_list,:]\n",
    "'''"
   ]
  },
  {
   "cell_type": "code",
   "execution_count": null,
   "metadata": {},
   "outputs": [],
   "source": [
    "# Subject 118\n",
    "'''\n",
    "snr_list_118_03, snr_index_118_03 = compute_signal_to_noise_ratio(w_C_118_03_)\n",
    "snr_list_118_04, snr_index_118_04 = compute_signal_to_noise_ratio(w_C_118_04_)\n",
    "snr_list_118_11, snr_index_118_11 = compute_signal_to_noise_ratio(w_C_118_11_)\n",
    "snr_list_118_17, snr_index_118_17 = compute_signal_to_noise_ratio(w_C_118_17_)\n",
    "\n",
    "inf_indices_118_03 = [index for index, value in enumerate(snr_list_118_03) if value == float('inf')]\n",
    "inf_indices_118_04 = [index for index, value in enumerate(snr_list_118_04) if value == float('inf')]\n",
    "inf_indices_118_11 = [index for index, value in enumerate(snr_list_118_11) if value == float('inf')]\n",
    "inf_indices_118_17 = [index for index, value in enumerate(snr_list_118_17) if value == float('inf')]\n",
    "inf_to_exclude = list(set(inf_indices_118_03) & set(inf_indices_118_04) & set(inf_indices_118_11) & set(inf_indices_118_17))\n",
    "\n",
    "common_idxs_list_ = list(set(snr_index_118_03[:30]) & set(snr_index_118_04[:30]) & set(snr_index_118_11[:30]) & set(snr_index_118_17[:30]))\n",
    "common_idxs_list = list(set(common_idxs_list_) - set(inf_to_exclude))\n",
    "print(len(common_idxs_list))\n",
    "\n",
    "w_C_118_03_ = w_C_118_03_[common_idxs_list,:]\n",
    "w_C_118_04_ = w_C_118_04_[common_idxs_list,:]\n",
    "w_C_118_11_ = w_C_118_11_[common_idxs_list,:]\n",
    "w_C_118_17_ = w_C_118_17_[common_idxs_list,:]\n",
    "'''"
   ]
  },
  {
   "cell_type": "code",
   "execution_count": null,
   "metadata": {},
   "outputs": [],
   "source": [
    "# sprint('How many outputs have SNR over 5? ', (np.array(snr_list_08_09) > 10).sum())"
   ]
  },
  {
   "cell_type": "code",
   "execution_count": null,
   "metadata": {},
   "outputs": [],
   "source": [
    "# plt.plot(w_C_64_03_[0])"
   ]
  },
  {
   "cell_type": "markdown",
   "metadata": {},
   "source": [
    "## Cat different trails"
   ]
  },
  {
   "cell_type": "code",
   "execution_count": 5,
   "metadata": {},
   "outputs": [],
   "source": [
    "# Modify following line to get different number of trails ... \n",
    "# w_sample_total_data = torch.cat((w_C_08_02_), dim=0)\n",
    "# w_sample_total_data = torch.cat((w_C_09_01_, w_C_09_02_, w_C_09_03_, w_C_09_05_, w_C_09_06_, w_C_09_11_), dim=0)\n",
    "w_sample_total_data = w_C_08_02_\n",
    "w_sample_total_data = w_sample_total_data.reshape(-1)\n",
    "# print(w_sample_total_data.shape)"
   ]
  },
  {
   "cell_type": "code",
   "execution_count": 6,
   "metadata": {},
   "outputs": [],
   "source": [
    "# print(w_C_total)\n",
    "w_n_C_total = 200\n",
    "w_C_total = Tensor( (np.arange(w_n_C_total)/w_n_C_total) * 20 - 10)\n",
    "w_n_outputs = int(19 * 1)\n",
    "assert w_sample_total_data.shape[0] == int(w_n_outputs * w_n_C_total)"
   ]
  },
  {
   "cell_type": "markdown",
   "metadata": {},
   "source": [
    "### train/test split for every output"
   ]
  },
  {
   "cell_type": "code",
   "execution_count": 7,
   "metadata": {},
   "outputs": [],
   "source": [
    "w_n_C_train = 100 # the number of training data points per output\n",
    "w_n_C_test = w_n_C_total - w_n_C_train\n",
    "\n",
    "np.random.seed(expri_random_seed)\n",
    "list_expri_random_seeds = np.random.randn(w_n_outputs)\n",
    "\n",
    "# different from the previous case, C_train and C_test no longer a single set, but every output has different values.\n",
    "w_ls_of_ls_train_C = [] # idx of C, of length w_n_outputs, every element is a list of length w_n_C_train.\n",
    "w_ls_of_ls_test_C = []  # idx of C, of length w_n_outputs, every element is a list of length w_n_C_test.\n",
    "\n",
    "w_sample_train_index, w_sample_test_index = [], []\n",
    "\n",
    "for i in range(w_n_outputs):\n",
    "    # iterate across different output functions\n",
    "    random.seed(list_expri_random_seeds[i])\n",
    "    train_index = random.sample(range(w_n_C_total), w_n_C_train)\n",
    "    test_index = [index for index in range(w_n_C_total) if index not in train_index]\n",
    "    w_ls_of_ls_train_C.append(train_index)\n",
    "    w_ls_of_ls_test_C.append(test_index)\n",
    "    \n",
    "    w_sample_train_index = np.concatenate((w_sample_train_index, list(np.array(train_index) + w_n_C_total*i)))\n",
    "    w_sample_test_index = np.concatenate((w_sample_test_index, list(np.array(test_index) + w_n_C_total*i)))"
   ]
  },
  {
   "cell_type": "markdown",
   "metadata": {},
   "source": [
    "### record mean and std for train data of every output"
   ]
  },
  {
   "cell_type": "code",
   "execution_count": 8,
   "metadata": {},
   "outputs": [],
   "source": [
    "w_list_of_train_C_mean = []\n",
    "w_list_of_train_C_std = []\n",
    "\n",
    "w_sample_total_data_ = w_sample_total_data.reshape(w_n_outputs, w_n_C_total)\n",
    "for i in range(w_n_outputs):\n",
    "    i_th_output_traindata = w_sample_total_data_[i][w_ls_of_ls_train_C[i]]\n",
    "    w_list_of_train_C_mean.append(float(i_th_output_traindata.mean()))\n",
    "    w_list_of_train_C_std.append(float(i_th_output_traindata.std()))\n",
    "\n",
    "assert len(w_list_of_train_C_mean) == len(w_list_of_train_C_std) == w_n_outputs"
   ]
  },
  {
   "cell_type": "code",
   "execution_count": 9,
   "metadata": {},
   "outputs": [
    {
     "name": "stdout",
     "output_type": "stream",
     "text": [
      "final total_data of shape torch.Size([3800])\n"
     ]
    }
   ],
   "source": [
    "w_sample_total_data = torch.zeros(w_n_outputs, w_n_C_total)\n",
    "for i in range(w_n_outputs):\n",
    "    w_sample_total_data[i] = ( w_sample_total_data_[i] - w_list_of_train_C_mean[i] ) / w_list_of_train_C_std[i]\n",
    "\n",
    "w_sample_total_data = w_sample_total_data.reshape(-1)\n",
    "\n",
    "print('final total_data of shape', w_sample_total_data.shape)\n",
    "w_sample_train_data = w_sample_total_data[w_sample_train_index]\n",
    "w_sample_test_data = w_sample_total_data[w_sample_test_index]\n",
    "\n",
    "assert w_sample_train_data.shape[0] == w_n_C_train * w_n_outputs\n",
    "assert w_sample_test_data.shape[0] == w_n_C_test * w_n_outputs"
   ]
  },
  {
   "cell_type": "code",
   "execution_count": null,
   "metadata": {},
   "outputs": [],
   "source": [
    "# make sure no nan number here!\n",
    "# print(w_sample_test_data.max())"
   ]
  },
  {
   "cell_type": "markdown",
   "metadata": {},
   "source": [
    "## Define model and Training"
   ]
  },
  {
   "cell_type": "code",
   "execution_count": 10,
   "metadata": {},
   "outputs": [
    {
     "name": "stderr",
     "output_type": "stream",
     "text": [
      "Loss: 0.044, iter no: 2499: 100%|██████████| 2500/2500 [2:05:45<00:00,  3.02s/it]     "
     ]
    },
    {
     "name": "stdout",
     "output_type": "stream",
     "text": [
      "Total Training Time: 7545.484986066818\n"
     ]
    },
    {
     "name": "stderr",
     "output_type": "stream",
     "text": [
      "\n"
     ]
    }
   ],
   "source": [
    "# define hyper-parameters\n",
    "w_n_X = w_n_outputs\n",
    "w_n_C = len(w_ls_of_ls_train_C[0])\n",
    "w_n_total = w_n_X * w_n_C\n",
    "w_index_dim = 1\n",
    "w_latent_dim = 5\n",
    "w_n_inducing_C = 30\n",
    "w_n_inducing_X = 50\n",
    "w_pca = False\n",
    "# NOTE\n",
    "learn_inducing_locations_X = True # False\n",
    "learn_inducing_locations_C = True # True\n",
    "\n",
    "Y_train = w_sample_train_data\n",
    "\n",
    "# specify model\n",
    "w_my_model = LVMOGP_SVI(w_n_X, w_n_C, w_index_dim, w_latent_dim, w_n_inducing_C, w_n_inducing_X, Y_train.reshape(w_n_X, -1), pca=w_pca, learn_inducing_locations_X=learn_inducing_locations_X, learn_inducing_locations_C=learn_inducing_locations_C)\n",
    "\n",
    "# Likelihood & training objective\n",
    "w_likelihood = GaussianLikelihood()\n",
    "w_mll = VariationalELBO(w_likelihood, w_my_model, num_data=w_n_total)\n",
    "\n",
    "# optimizer and scheduler\n",
    "w_optimizer = torch.optim.Adam([\n",
    "    {'params': w_my_model.parameters()},\n",
    "    {'params': w_likelihood.parameters()}\n",
    "], lr=0.01)\n",
    "\n",
    "w_scheduler = StepLR(w_optimizer, step_size=50, gamma=0.95)  # every 50 iterations, learning rate multiple 0.95\n",
    "\n",
    "# Initialize inducing points in C space\n",
    "# Approach 1: random initialization\n",
    "# w_my_model.variational_strategy.inducing_points_C.data = torch.rand(w_n_inducing_C).reshape(-1,1) * 20 - 10\n",
    "# Approach 2: evenly spaced initialization\n",
    "w_my_model.variational_strategy.inducing_points_C.data = Tensor(np.linspace(-10, 10, w_n_inducing_C).reshape(-1, 1))\n",
    "\n",
    "# Initialize likelihood noise as true value\n",
    "w_likelihood.noise = Tensor([0.05])\n",
    "\n",
    "# start training!\n",
    "w_loss_list = []\n",
    "w_grads_list = []\n",
    "w_param_value_list = []\n",
    "n_iterations = 2500 # 10000\n",
    "iterator = trange(n_iterations, leave=True)\n",
    "batch_size_X = 17 # mini-batch for latents\n",
    "batch_size_C = 50 # mini-batch for inputs, one can set w_n_C_train\n",
    "num_X_MC = 10 # the number of MC samples used to approximate E_{q(X)}\n",
    "w_model_max_grad_norm = 1 # 1\n",
    "w_likeli_max_grad_norm = 0.1 # 0.1\n",
    "\n",
    "w_my_model.train()\n",
    "w_likelihood.train()\n",
    "start_time = time.time()\n",
    "for i in iterator: \n",
    "    batch_index_X, batch_index_C = sample_index_X_and_C_from_list(w_ls_of_ls_train_C, batch_size_X=batch_size_X, batch_size_C=batch_size_C)\n",
    "    # core code is here \n",
    "    w_optimizer.zero_grad()\n",
    "\n",
    "    loss_value = 0.0\n",
    "    for _ in range(num_X_MC):\n",
    "        sample_batch_X = w_my_model.sample_latent_variable(batch_index_X)\n",
    "        sample_batch_C = w_C_total[batch_index_C]\n",
    "        output_batch = w_my_model(sample_batch_X, sample_batch_C) # q(f)\n",
    "        batch_index_Y = inhomogeneous_index_of_batch_Y(batch_index_X, batch_index_C, w_n_X, w_n_C_total)\n",
    "        # print('batch_index_Y', len(batch_index_Y))\n",
    "        loss = -w_mll(output_batch, w_sample_total_data[batch_index_Y]).sum()\n",
    "        loss_value += loss.item()\n",
    "        loss.backward()\n",
    "    loss_value /= num_X_MC\n",
    "    dict_grads, dict_param_values = collect_model_gradients(w_my_model)\n",
    "    w_loss_list.append(loss_value)\n",
    "    w_grads_list.append(dict_grads)\n",
    "    w_param_value_list.append(dict_param_values)\n",
    "    iterator.set_description('Loss: ' + str(float(np.round(loss_value, 3))) + \", iter no: \" + str(i))\n",
    "    \n",
    "    # Clip gradients\n",
    "    torch.nn.utils.clip_grad_norm_(w_my_model.parameters(), w_model_max_grad_norm)\n",
    "    torch.nn.utils.clip_grad_norm_(w_likelihood.parameters(), w_likeli_max_grad_norm)\n",
    "\n",
    "    w_optimizer.step()\n",
    "    w_scheduler.step()\n",
    "\n",
    "end_time = time.time()\n",
    "print('Total Training Time:',  end_time - start_time)"
   ]
  },
  {
   "cell_type": "code",
   "execution_count": 11,
   "metadata": {},
   "outputs": [],
   "source": [
    "# remove abnormal values (happens when non psd matrix cholesky occur)\n",
    "w_loss_list = list(np.array(w_loss_list)[np.array(w_loss_list) < 3])"
   ]
  },
  {
   "cell_type": "code",
   "execution_count": 12,
   "metadata": {},
   "outputs": [
    {
     "data": {
      "image/png": "[encoded data removed]",
      "text/plain": [
       "<Figure size 640x480 with 1 Axes>"
      ]
     },
     "metadata": {},
     "output_type": "display_data"
    }
   ],
   "source": [
    "import matplotlib.pyplot as plt\n",
    "plt.plot(w_loss_list)\n",
    "train_loss_path = f'/Users/jiangxiaoyu/Desktop/All Projects/GPLVM_project_code/experi_results/syn_data_training_loss_numofoutput_{w_n_outputs}.png'\n",
    "plt.savefig(train_loss_path)"
   ]
  },
  {
   "cell_type": "markdown",
   "metadata": {},
   "source": [
    "## Testing"
   ]
  },
  {
   "cell_type": "code",
   "execution_count": 13,
   "metadata": {},
   "outputs": [],
   "source": [
    "# prediction output for grid (total) inputs.\n",
    "w_my_model.eval()\n",
    "w_likelihood.eval()\n",
    "\n",
    "all_index_X = np.array([[i]*w_n_C_total for i in range(w_n_outputs)]).reshape(-1).tolist() \n",
    "all_index_C = [i for i in range(w_n_C_total)] * w_n_outputs \n",
    "len_X = len(all_index_X)\n",
    "assert len_X == len(all_index_C)\n",
    "all_mean_X = w_my_model.X.q_mu\n",
    "\n",
    "test_mini_batch_size = 1000\n",
    "\n",
    "all_pred_mean = torch.zeros(len_X)\n",
    "all_pred_var = torch.zeros(len_X)\n",
    "test_continue = True\n",
    "test_start_idx = 0\n",
    "test_end_idx = test_mini_batch_size\n",
    "\n",
    "while test_continue:\n",
    "    batch_X = all_mean_X[all_index_X[test_start_idx:test_end_idx]]\n",
    "    batch_C = w_C_total[all_index_C[test_start_idx:test_end_idx]]\n",
    "    batch_output = w_likelihood(w_my_model(batch_X, batch_C))\n",
    "    all_pred_mean[test_start_idx:test_end_idx] = batch_output.loc.detach()\n",
    "    all_pred_var[test_start_idx:test_end_idx] = batch_output.variance.detach()\n",
    "\n",
    "    if test_end_idx < len_X:\n",
    "        test_start_idx += test_mini_batch_size\n",
    "        test_end_idx += test_mini_batch_size\n",
    "        test_end_idx = min(test_end_idx, len_X)\n",
    "    else:\n",
    "        test_continue = False"
   ]
  },
  {
   "cell_type": "code",
   "execution_count": 14,
   "metadata": {},
   "outputs": [],
   "source": [
    "# finer grid for better visualization ... nothing to do with RMSE computation ... \n",
    "\n",
    "n_data4visual = 500\n",
    "w_C_total4visual = Tensor(np.linspace(-10, 10, n_data4visual))\n",
    "all_index_X4visual = np.array([[i]*n_data4visual for i in range(w_n_outputs)]).reshape(-1).tolist() \n",
    "all_index_C4visual = [i for i in range(n_data4visual)] * w_n_outputs \n",
    "\n",
    "len_X4visual = len(all_index_X4visual)\n",
    "assert len_X4visual == len(all_index_C4visual)\n",
    "\n",
    "test_mini_batch_size = 3000\n",
    "\n",
    "all_pred_mean4visual = torch.zeros(len_X4visual)\n",
    "all_pred_var4visual = torch.zeros(len_X4visual)\n",
    "\n",
    "test_continue = True\n",
    "test_start_idx = 0\n",
    "test_end_idx = test_mini_batch_size\n",
    "\n",
    "while test_continue:\n",
    "    batch_X = all_mean_X[all_index_X4visual[test_start_idx:test_end_idx]]\n",
    "    batch_C = w_C_total4visual[all_index_C4visual[test_start_idx:test_end_idx]]\n",
    "    batch_output = w_likelihood(w_my_model(batch_X, batch_C))\n",
    "    all_pred_mean4visual[test_start_idx:test_end_idx] = batch_output.loc.detach()\n",
    "    all_pred_var4visual[test_start_idx:test_end_idx] = batch_output.variance.detach()\n",
    "\n",
    "    if test_end_idx < len_X4visual:\n",
    "        test_start_idx += test_mini_batch_size\n",
    "        test_end_idx += test_mini_batch_size\n",
    "        test_end_idx = min(test_end_idx, len_X4visual)\n",
    "    else:\n",
    "        test_continue = False"
   ]
  },
  {
   "cell_type": "markdown",
   "metadata": {},
   "source": [
    "## Train/Test data RMSE"
   ]
  },
  {
   "cell_type": "code",
   "execution_count": 15,
   "metadata": {},
   "outputs": [
    {
     "name": "stdout",
     "output_type": "stream",
     "text": [
      "Global Train RMSE tensor(0.4013)\n",
      "Global Test RMSE tensor(0.4834)\n"
     ]
    }
   ],
   "source": [
    "w_train_data_predict = all_pred_mean[w_sample_train_index]\n",
    "train_rmse = (w_train_data_predict - w_sample_train_data).square().mean().sqrt()\n",
    "print('Global Train RMSE', train_rmse)\n",
    "\n",
    "w_test_data_predict = all_pred_mean[w_sample_test_index]\n",
    "test_rmse = (w_test_data_predict - w_sample_test_data).square().mean().sqrt()\n",
    "print('Global Test RMSE', test_rmse)"
   ]
  },
  {
   "cell_type": "markdown",
   "metadata": {},
   "source": [
    "## Train/Test data NLL"
   ]
  },
  {
   "cell_type": "code",
   "execution_count": 16,
   "metadata": {},
   "outputs": [
    {
     "name": "stdout",
     "output_type": "stream",
     "text": [
      "Global Train negative log likelihood: tensor(-0.2849)\n",
      "Global Test negative log likelihood tensor(0.1749)\n"
     ]
    }
   ],
   "source": [
    "train_nll = neg_log_likelihood(Target=w_sample_train_data, GaussianMean=all_pred_mean[w_sample_train_index], GaussianVar=all_pred_var[w_sample_train_index])\n",
    "test_nll = neg_log_likelihood(Target=w_sample_test_data, GaussianMean=all_pred_mean[w_sample_test_index], GaussianVar=all_pred_var[w_sample_test_index])\n",
    "\n",
    "print('Global Train negative log likelihood:', train_nll)\n",
    "print('Global Test negative log likelihood', test_nll)"
   ]
  },
  {
   "cell_type": "markdown",
   "metadata": {},
   "source": [
    "## Visual Inspect"
   ]
  },
  {
   "cell_type": "code",
   "execution_count": 17,
   "metadata": {},
   "outputs": [],
   "source": [
    "def evaluate_on_simgle_output(w_function_index):\n",
    "    # Pick the index of the funtion to show\n",
    "    # w_function_index = 982 # \n",
    "\n",
    "    performance_dirct = {}\n",
    "    w_train_input = w_C_total[w_ls_of_ls_train_C[w_function_index]]\n",
    "    w_train_start = 0\n",
    "    for i in range(w_function_index):\n",
    "        w_train_start += len(w_ls_of_ls_train_C[i]) # don't assume every output has the same length of inputs\n",
    "    w_train_end = w_train_start + len(w_ls_of_ls_train_C[w_function_index])\n",
    "    w_train_target = w_sample_train_data[w_train_start:w_train_end]\n",
    "    w_train_predict = w_train_data_predict[w_train_start:w_train_end]\n",
    "    train_rmse_ = (w_train_target - w_train_predict).square().mean().sqrt()\n",
    "    train_nll_ = neg_log_likelihood(w_train_target, all_pred_mean[w_sample_train_index][w_train_start:w_train_end], all_pred_var[w_sample_train_index][w_train_start:w_train_end])\n",
    "    # print('train rmse', train_rmse_)\n",
    "    # print('train nll:', train_nll_)\n",
    "    performance_dirct['train_rmse'] = train_rmse_\n",
    "    performance_dirct['train_nll'] = train_nll_\n",
    "\n",
    "    w_test_input = w_C_total[w_ls_of_ls_test_C[w_function_index]]\n",
    "    w_test_start = 0\n",
    "    for j in range(w_function_index):\n",
    "        w_test_start += len(w_ls_of_ls_test_C[i])\n",
    "    w_test_end = w_test_start + len(w_ls_of_ls_test_C[w_function_index])\n",
    "    w_test_target = w_sample_test_data[w_test_start:w_test_end]\n",
    "    w_test_predict = w_test_data_predict[w_test_start:w_test_end]\n",
    "    test_rmse_ = (w_test_predict - w_test_target).square().mean().sqrt()\n",
    "    test_nll_ = neg_log_likelihood(w_test_target, all_pred_mean[w_sample_test_index][w_test_start:w_test_end], all_pred_var[w_sample_test_index][w_test_start:w_test_end])\n",
    "    # print('test rmse', test_rmse_)\n",
    "    # print('test nll', test_nll_)\n",
    "    performance_dirct['test_rmse'] = test_rmse_\n",
    "    performance_dirct['test_nll'] = test_nll_\n",
    "\n",
    "    w_gp_input = w_C_total\n",
    "    w_gp_start = w_gp_input.shape[0] * w_function_index\n",
    "    w_gp_end = w_gp_start + w_gp_input.shape[0]\n",
    "    w_gp_target = w_sample_total_data[w_gp_start:w_gp_end]\n",
    "\n",
    "    # NOTE: comment these since bad visualization ... \n",
    "    # w_gp_pred_mean = all_pred_mean[w_gp_start:w_gp_end]\n",
    "    # w_gp_pred_std = all_pred_var[w_gp_start:w_gp_end]\n",
    "\n",
    "    w_gp4visual_start = n_data4visual * w_function_index\n",
    "    w_gp4visual_end = n_data4visual * (w_function_index + 1)\n",
    "    w_gp_pred_mean = all_pred_mean4visual[w_gp4visual_start:w_gp4visual_end]\n",
    "    w_gp_pred_std = all_pred_var4visual.sqrt()[w_gp4visual_start:w_gp4visual_end]\n",
    "\n",
    "    return w_train_input, w_train_target, w_test_input, w_test_target, w_gp_pred_mean, w_gp_pred_std, performance_dirct\n",
    "    "
   ]
  },
  {
   "cell_type": "markdown",
   "metadata": {},
   "source": [
    "## loop over all function index"
   ]
  },
  {
   "cell_type": "code",
   "execution_count": 18,
   "metadata": {},
   "outputs": [],
   "source": [
    "train_rmse_list = [] # list of tensors\n",
    "test_rmse_list = []\n",
    "train_nll_list = []\n",
    "test_nll_list = []\n",
    "for output_index in range(w_n_outputs):\n",
    "    _, _, _, _, _, _, performance_dirct = evaluate_on_simgle_output(output_index)\n",
    "    train_rmse_list.append(performance_dirct['train_rmse'])\n",
    "    test_rmse_list.append(performance_dirct['test_rmse'])\n",
    "    train_nll_list.append(performance_dirct['train_nll'])\n",
    "    test_nll_list.append(performance_dirct['test_nll'])"
   ]
  },
  {
   "cell_type": "code",
   "execution_count": 19,
   "metadata": {},
   "outputs": [],
   "source": [
    "def find_median_index(lst):\n",
    "    sorted_lst = sorted(lst)\n",
    "    n = len(lst)\n",
    "    \n",
    "    if n % 2 != 0:\n",
    "        median = sorted_lst[n // 2]\n",
    "        return lst.index(median)\n",
    "    else:\n",
    "        mid1 = sorted_lst[n // 2 - 1]\n",
    "        mid2 = sorted_lst[n // 2]\n",
    "        \n",
    "        return lst.index(mid1)  # lst.index(mid2)"
   ]
  },
  {
   "cell_type": "code",
   "execution_count": 20,
   "metadata": {},
   "outputs": [
    {
     "name": "stdout",
     "output_type": "stream",
     "text": [
      "The output index with WORSE test rmse performance:  5\n",
      "The output index with WORSE test nll performance:  5\n",
      "------------------------------------------------------------\n",
      "The output index with MIDDLE test rmse performance: 15\n",
      "The output index with MIDDLE test nll performance: 15\n",
      "------------------------------------------------------------\n",
      "The output index with BEST test rmse performance:  17\n",
      "The output index with BEST test nll performance:  17\n"
     ]
    }
   ],
   "source": [
    "print('The output index with WORSE test rmse performance: ', test_rmse_list.index(max(test_rmse_list)))\n",
    "print('The output index with WORSE test nll performance: ', test_nll_list.index(max(test_nll_list)))\n",
    "print('------' * 10)\n",
    "print('The output index with MIDDLE test rmse performance:', find_median_index(test_rmse_list))\n",
    "print('The output index with MIDDLE test nll performance:', find_median_index(test_nll_list))\n",
    "print('------' * 10)\n",
    "print('The output index with BEST test rmse performance: ', test_rmse_list.index(min(test_rmse_list)))\n",
    "print('The output index with BEST test nll performance: ', test_nll_list.index(min(test_nll_list)))"
   ]
  },
  {
   "cell_type": "code",
   "execution_count": 21,
   "metadata": {},
   "outputs": [],
   "source": [
    "function_index = 5\n",
    "w_train_input, w_train_target, w_test_input, w_test_target, w_gp_pred_mean, w_gp_pred_std, performance_dirct = evaluate_on_simgle_output(function_index)"
   ]
  },
  {
   "cell_type": "code",
   "execution_count": 22,
   "metadata": {},
   "outputs": [
    {
     "data": {
      "image/png": "[encoded data removed]",
      "text/plain": [
       "<Figure size 640x480 with 1 Axes>"
      ]
     },
     "metadata": {},
     "output_type": "display_data"
    }
   ],
   "source": [
    "picture_save_path = f'/Users/jiangxiaoyu/Desktop/All Projects/GPLVM_project_code/experi_results/func_id_{function_index}_numofoutput_{w_n_outputs}.png'\n",
    "plot_traindata_testdata_fittedgp(train_X=w_train_input, train_Y=w_train_target, test_X=w_test_input, test_Y=w_test_target, gp_X=w_C_total4visual, gp_pred_mean=w_gp_pred_mean, gp_pred_std=w_gp_pred_std, inducing_points_X=w_my_model.variational_strategy.inducing_points_C.data, n_inducing_C=w_n_inducing_C, picture_save_path=picture_save_path) # NOTE: input is C not X"
   ]
  },
  {
   "cell_type": "code",
   "execution_count": null,
   "metadata": {},
   "outputs": [],
   "source": []
  }
 ],
 "metadata": {
  "kernelspec": {
   "display_name": "GPLVM",
   "language": "python",
   "name": "python3"
  },
  "language_info": {
   "codemirror_mode": {
    "name": "ipython",
    "version": 3
   },
   "file_extension": ".py",
   "mimetype": "text/x-python",
   "name": "python",
   "nbconvert_exporter": "python",
   "pygments_lexer": "ipython3",
   "version": "3.9.18"
  }
 },
 "nbformat": 4,
 "nbformat_minor": 2
}
