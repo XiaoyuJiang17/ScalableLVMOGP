{
 "cells": [
  {
   "cell_type": "code",
   "execution_count": 2,
   "metadata": {},
   "outputs": [],
   "source": [
    "import pandas as pd\n",
    "import numpy as np"
   ]
  },
  {
   "cell_type": "code",
   "execution_count": 3,
   "metadata": {},
   "outputs": [],
   "source": [
    "data_path = '/Users/jiangxiaoyu/Desktop/Arthur_datasets/db_100samples_3m_9m_48m.csv'\n",
    "data = pd.read_csv(data_path)"
   ]
  },
  {
   "cell_type": "code",
   "execution_count": 7,
   "metadata": {},
   "outputs": [
    {
     "data": {
      "text/html": [
       "<div>\n",
       "<style scoped>\n",
       "    .dataframe tbody tr th:only-of-type {\n",
       "        vertical-align: middle;\n",
       "    }\n",
       "\n",
       "    .dataframe tbody tr th {\n",
       "        vertical-align: top;\n",
       "    }\n",
       "\n",
       "    .dataframe thead th {\n",
       "        text-align: right;\n",
       "    }\n",
       "</style>\n",
       "<table border=\"1\" class=\"dataframe\">\n",
       "  <thead>\n",
       "    <tr style=\"text-align: right;\">\n",
       "      <th></th>\n",
       "      <th>ProbeID</th>\n",
       "      <th>ID</th>\n",
       "      <th>Timestamp</th>\n",
       "      <th>Input</th>\n",
       "    </tr>\n",
       "  </thead>\n",
       "  <tbody>\n",
       "    <tr>\n",
       "      <th>0</th>\n",
       "      <td>cg26928153</td>\n",
       "      <td>010-04004</td>\n",
       "      <td>3</td>\n",
       "      <td>0.928026</td>\n",
       "    </tr>\n",
       "    <tr>\n",
       "      <th>1</th>\n",
       "      <td>cg26928153</td>\n",
       "      <td>010-04020</td>\n",
       "      <td>3</td>\n",
       "      <td>0.931293</td>\n",
       "    </tr>\n",
       "    <tr>\n",
       "      <th>2</th>\n",
       "      <td>cg26928153</td>\n",
       "      <td>010-04048</td>\n",
       "      <td>3</td>\n",
       "      <td>0.926445</td>\n",
       "    </tr>\n",
       "    <tr>\n",
       "      <th>3</th>\n",
       "      <td>cg26928153</td>\n",
       "      <td>010-04082</td>\n",
       "      <td>3</td>\n",
       "      <td>0.939035</td>\n",
       "    </tr>\n",
       "    <tr>\n",
       "      <th>4</th>\n",
       "      <td>cg26928153</td>\n",
       "      <td>010-04126</td>\n",
       "      <td>3</td>\n",
       "      <td>0.944873</td>\n",
       "    </tr>\n",
       "    <tr>\n",
       "      <th>...</th>\n",
       "      <td>...</td>\n",
       "      <td>...</td>\n",
       "      <td>...</td>\n",
       "      <td>...</td>\n",
       "    </tr>\n",
       "    <tr>\n",
       "      <th>228133795</th>\n",
       "      <td>cg09226288</td>\n",
       "      <td>010-21530</td>\n",
       "      <td>48</td>\n",
       "      <td>0.579035</td>\n",
       "    </tr>\n",
       "    <tr>\n",
       "      <th>228133796</th>\n",
       "      <td>cg09226288</td>\n",
       "      <td>010-21534</td>\n",
       "      <td>48</td>\n",
       "      <td>0.518339</td>\n",
       "    </tr>\n",
       "    <tr>\n",
       "      <th>228133797</th>\n",
       "      <td>cg09226288</td>\n",
       "      <td>010-21548</td>\n",
       "      <td>48</td>\n",
       "      <td>0.581461</td>\n",
       "    </tr>\n",
       "    <tr>\n",
       "      <th>228133798</th>\n",
       "      <td>cg09226288</td>\n",
       "      <td>010-21619</td>\n",
       "      <td>48</td>\n",
       "      <td>0.605975</td>\n",
       "    </tr>\n",
       "    <tr>\n",
       "      <th>228133799</th>\n",
       "      <td>cg09226288</td>\n",
       "      <td>010-21640</td>\n",
       "      <td>48</td>\n",
       "      <td>0.523985</td>\n",
       "    </tr>\n",
       "  </tbody>\n",
       "</table>\n",
       "<p>228133800 rows × 4 columns</p>\n",
       "</div>"
      ],
      "text/plain": [
       "              ProbeID         ID  Timestamp     Input\n",
       "0          cg26928153  010-04004          3  0.928026\n",
       "1          cg26928153  010-04020          3  0.931293\n",
       "2          cg26928153  010-04048          3  0.926445\n",
       "3          cg26928153  010-04082          3  0.939035\n",
       "4          cg26928153  010-04126          3  0.944873\n",
       "...               ...        ...        ...       ...\n",
       "228133795  cg09226288  010-21530         48  0.579035\n",
       "228133796  cg09226288  010-21534         48  0.518339\n",
       "228133797  cg09226288  010-21548         48  0.581461\n",
       "228133798  cg09226288  010-21619         48  0.605975\n",
       "228133799  cg09226288  010-21640         48  0.523985\n",
       "\n",
       "[228133800 rows x 4 columns]"
      ]
     },
     "execution_count": 7,
     "metadata": {},
     "output_type": "execute_result"
    }
   ],
   "source": [
    "data"
   ]
  },
  {
   "cell_type": "code",
   "execution_count": 10,
   "metadata": {},
   "outputs": [
    {
     "name": "stderr",
     "output_type": "stream",
     "text": [
      "/var/folders/99/mtmjrwjx3jn6zlq8zjmrl1fr0000gn/T/ipykernel_919/1480895949.py:1: UserWarning: Boolean Series key will be reindexed to match DataFrame index.\n",
      "  data[data['ProbeID']=='cg26933021'][data['ID']=='010-21240']\n"
     ]
    },
    {
     "data": {
      "text/html": [
       "<div>\n",
       "<style scoped>\n",
       "    .dataframe tbody tr th:only-of-type {\n",
       "        vertical-align: middle;\n",
       "    }\n",
       "\n",
       "    .dataframe tbody tr th {\n",
       "        vertical-align: top;\n",
       "    }\n",
       "\n",
       "    .dataframe thead th {\n",
       "        text-align: right;\n",
       "    }\n",
       "</style>\n",
       "<table border=\"1\" class=\"dataframe\">\n",
       "  <thead>\n",
       "    <tr style=\"text-align: right;\">\n",
       "      <th></th>\n",
       "      <th>ProbeID</th>\n",
       "      <th>ID</th>\n",
       "      <th>Timestamp</th>\n",
       "      <th>Input</th>\n",
       "    </tr>\n",
       "  </thead>\n",
       "  <tbody>\n",
       "    <tr>\n",
       "      <th>950182</th>\n",
       "      <td>cg26933021</td>\n",
       "      <td>010-21240</td>\n",
       "      <td>3</td>\n",
       "      <td>0.853601</td>\n",
       "    </tr>\n",
       "    <tr>\n",
       "      <th>76994782</th>\n",
       "      <td>cg26933021</td>\n",
       "      <td>010-21240</td>\n",
       "      <td>9</td>\n",
       "      <td>0.865889</td>\n",
       "    </tr>\n",
       "    <tr>\n",
       "      <th>153039382</th>\n",
       "      <td>cg26933021</td>\n",
       "      <td>010-21240</td>\n",
       "      <td>48</td>\n",
       "      <td>0.844955</td>\n",
       "    </tr>\n",
       "  </tbody>\n",
       "</table>\n",
       "</div>"
      ],
      "text/plain": [
       "              ProbeID         ID  Timestamp     Input\n",
       "950182     cg26933021  010-21240          3  0.853601\n",
       "76994782   cg26933021  010-21240          9  0.865889\n",
       "153039382  cg26933021  010-21240         48  0.844955"
      ]
     },
     "execution_count": 10,
     "metadata": {},
     "output_type": "execute_result"
    }
   ],
   "source": [
    "data[data['ProbeID']=='cg26933021'][data['ID']=='010-21240']"
   ]
  },
  {
   "cell_type": "code",
   "execution_count": 5,
   "metadata": {},
   "outputs": [
    {
     "data": {
      "text/plain": [
       "(3,)"
      ]
     },
     "execution_count": 5,
     "metadata": {},
     "output_type": "execute_result"
    }
   ],
   "source": [
    "data['Timestamp'].unique().shape"
   ]
  },
  {
   "cell_type": "code",
   "execution_count": null,
   "metadata": {},
   "outputs": [],
   "source": []
  }
 ],
 "metadata": {
  "kernelspec": {
   "display_name": "GPLVM",
   "language": "python",
   "name": "python3"
  },
  "language_info": {
   "codemirror_mode": {
    "name": "ipython",
    "version": 3
   },
   "file_extension": ".py",
   "mimetype": "text/x-python",
   "name": "python",
   "nbconvert_exporter": "python",
   "pygments_lexer": "ipython3",
   "version": "3.9.18"
  }
 },
 "nbformat": 4,
 "nbformat_minor": 2
}
