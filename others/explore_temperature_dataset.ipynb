{
 "cells": [
  {
   "cell_type": "code",
   "execution_count": 1,
   "metadata": {},
   "outputs": [],
   "source": [
    "import xarray as xr\n",
    "import matplotlib.pyplot as plt\n",
    "import cartopy.crs as ccrs\n",
    "import torch \n",
    "import matplotlib.pyplot as plt"
   ]
  },
  {
   "cell_type": "code",
   "execution_count": 2,
   "metadata": {},
   "outputs": [],
   "source": [
    "# import cdsapi\n",
    "# c = cdsapi.Client()"
   ]
  },
  {
   "cell_type": "code",
   "execution_count": 3,
   "metadata": {},
   "outputs": [
    {
     "name": "stdout",
     "output_type": "stream",
     "text": [
      "<xarray.Dataset>\n",
      "Dimensions:    (time: 363, bnds: 2, lat: 145, lon: 192)\n",
      "Coordinates:\n",
      "  * time       (time) float64 15.0 45.0 75.0 ... 1.082e+04 1.084e+04 1.088e+04\n",
      "  * lat        (lat) float64 -90.0 -88.75 -87.5 -86.25 ... 86.25 87.5 88.75 90.0\n",
      "  * lon        (lon) float64 0.0 1.875 3.75 5.625 ... 352.5 354.4 356.2 358.1\n",
      "    height     float64 ...\n",
      "Dimensions without coordinates: bnds\n",
      "Data variables:\n",
      "    time_bnds  (time, bnds) float64 ...\n",
      "    lat_bnds   (lat, bnds) float64 ...\n",
      "    lon_bnds   (lon, bnds) float64 ...\n",
      "    tas        (time, lat, lon) float32 ...\n",
      "Attributes: (12/28)\n",
      "    institution:            Met Office Hadley Centre, Fitzroy Road, Exeter, D...\n",
      "    institute_id:           MOHC\n",
      "    experiment_id:          amip\n",
      "    source:                 HadGEM2-A (2009) atmosphere: HadGAM2 (N96L38);  l...\n",
      "    model_id:               HadGEM2-A\n",
      "    forcing:                GHG, SA, Oz, LU, Sl, Vl, BC, OC, (GHG = CO2, N2O,...\n",
      "    ...                     ...\n",
      "    table_id:               Table Amon (28 March 2011) 0afcb2d7f190557bfb8b99...\n",
      "    title:                  HadGEM2-A model output prepared for CMIP5 AMIP\n",
      "    parent_experiment:      N/A\n",
      "    modeling_realm:         atmos\n",
      "    realization:            1\n",
      "    cmor_version:           2.5.7\n",
      "torch.Size([60, 29, 39])\n"
     ]
    }
   ],
   "source": [
    "data_path = '/Users/jiangxiaoyu/Desktop/All Projects/GPLVM_project_code/data/climate_data/tas_Amon_HadGEM2-A_amip_r1i1p1_197809-200811.nc'\n",
    "dataset = xr.open_dataset(data_path, decode_times=False)\n",
    "print(dataset)\n",
    "\n",
    "tas = dataset['tas']\n",
    "lat = dataset['lat']\n",
    "lon = dataset['lon']\n",
    "\n",
    "tas_torch_ = torch.tensor(tas.values)\n",
    "lat_torch_ = torch.tensor(lat.values)\n",
    "lon_torch_ = torch.tensor(lon.values)\n",
    "\n",
    "tas_torch = tas_torch_[:60, ::5, ::5]\n",
    "lat_torch = lat_torch_[::5]\n",
    "lon_torch = lon_torch_[::5]\n",
    "\n",
    "assert lat_torch.shape[0] * lon_torch.shape[0] == tas_torch.shape[-1] * tas_torch.shape[-2]\n",
    "print(tas_torch.shape)\n",
    "\n",
    "# Three dims: time, latitude, longitude\n",
    "# plt.plot(tas_torch[:, 28, 16])\n"
   ]
  },
  {
   "cell_type": "code",
   "execution_count": 5,
   "metadata": {},
   "outputs": [],
   "source": [
    "temperature_path_to_save = '/Users/jiangxiaoyu/Desktop/All Projects/GPLVM_project_code/data/climate_data/tensors/temperature.pt'\n",
    "torch.save(tas_torch, temperature_path_to_save)\n",
    "\n",
    "lat_path_to_save = '/Users/jiangxiaoyu/Desktop/All Projects/GPLVM_project_code/data/climate_data/tensors/latitude.pt'\n",
    "torch.save(lat_torch, lat_path_to_save)\n",
    "\n",
    "lon_path_to_save = '/Users/jiangxiaoyu/Desktop/All Projects/GPLVM_project_code/data/climate_data/tensors/longitude.pt'\n",
    "torch.save(lon_torch, lon_path_to_save)"
   ]
  },
  {
   "cell_type": "code",
   "execution_count": 6,
   "metadata": {},
   "outputs": [
    {
     "data": {
      "text/plain": [
       "\"\\ndata_path = '/Users/jiangxiaoyu/Desktop/All Projects/GPLVM_project_code/data/climate_data/dataset-projections-cmip5-daily-single-levels-5b433f45-6050-4764-b704-8e2da9b80c10/tas_day_ACCESS1-0_amip_r1i1p1_19790101-20031231.nc'\\ndataset = xr.open_dataset(data_path, decode_times=False)\\nprint(dataset)\\ndata_variable = dataset['tas']\\nprint(data_variable.shape)\\ndata_variable_torch = torch.tensor(data_variable.values)\\nplt.plot(data_variable_torch[:, 1, 1])\\n\""
      ]
     },
     "execution_count": 6,
     "metadata": {},
     "output_type": "execute_result"
    }
   ],
   "source": [
    "'''\n",
    "data_path = '/Users/jiangxiaoyu/Desktop/All Projects/GPLVM_project_code/data/climate_data/dataset-projections-cmip5-daily-single-levels-5b433f45-6050-4764-b704-8e2da9b80c10/tas_day_ACCESS1-0_amip_r1i1p1_19790101-20031231.nc'\n",
    "dataset = xr.open_dataset(data_path, decode_times=False)\n",
    "print(dataset)\n",
    "data_variable = dataset['tas']\n",
    "print(data_variable.shape)\n",
    "data_variable_torch = torch.tensor(data_variable.values)\n",
    "plt.plot(data_variable_torch[:, 1, 1])\n",
    "'''"
   ]
  },
  {
   "cell_type": "code",
   "execution_count": null,
   "metadata": {},
   "outputs": [],
   "source": []
  }
 ],
 "metadata": {
  "kernelspec": {
   "display_name": "GPLVM",
   "language": "python",
   "name": "python3"
  },
  "language_info": {
   "codemirror_mode": {
    "name": "ipython",
    "version": 3
   },
   "file_extension": ".py",
   "mimetype": "text/x-python",
   "name": "python",
   "nbconvert_exporter": "python",
   "pygments_lexer": "ipython3",
   "version": "3.9.18"
  }
 },
 "nbformat": 4,
 "nbformat_minor": 2
}
