{
 "cells": [
  {
   "cell_type": "code",
   "execution_count": 1,
   "metadata": {},
   "outputs": [],
   "source": [
    "import sys\n",
    "sys.path.append('/Users/jiangxiaoyu/Desktop/All Projects/GPLVM_project_code/')\n",
    "import yaml\n",
    "import torch\n",
    "# from models_.lvmogp_svi import LVMOGP_SVI\n",
    "from modules.prepare_and_train_model import LVMOGP_SVI \n",
    "from models_.gaussian_likelihood import GaussianLikelihood\n",
    "from modules.prepare_data import *\n",
    "from util_functions import *\n",
    "from tqdm import trange"
   ]
  },
  {
   "cell_type": "code",
   "execution_count": 2,
   "metadata": {},
   "outputs": [],
   "source": [
    "# Specify model and likelihood\n",
    "\n",
    "with open('/Users/jiangxiaoyu/Desktop/All Projects/GPLVM_project_code/configs/train_lvmogp_config.yaml', 'r') as file:\n",
    "    config = yaml.safe_load(file)\n",
    "\n",
    "my_model = LVMOGP_SVI(\n",
    "    n_outputs = config['n_outputs'],\n",
    "    n_input = config['n_input_train'],\n",
    "    input_dim = config['input_dim'],\n",
    "    latent_dim = config['latent_dim'],\n",
    "    n_inducing_input = config['n_inducing_input'],\n",
    "    n_inducing_latent = config['n_inducing_latent'],\n",
    "    data_Y = None,\n",
    "    pca = config['pca'],\n",
    "    learn_inducing_locations_latent = config['learn_inducing_locations_latent'],\n",
    "    learn_inducing_locations_input = config['learn_inducing_locations_input'],\n",
    "    latent_kernel_type = config['latent_kernel_type'],\n",
    "    input_kernel_type = config['input_kernel_type']\n",
    ")\n",
    "\n",
    "my_likelihood = GaussianLikelihood()"
   ]
  },
  {
   "cell_type": "code",
   "execution_count": 3,
   "metadata": {},
   "outputs": [
    {
     "data": {
      "text/plain": [
       "<All keys matched successfully>"
      ]
     },
     "execution_count": 3,
     "metadata": {},
     "output_type": "execute_result"
    }
   ],
   "source": [
    "# Load trained model and likelihood\n",
    "\n",
    "model_state_dict = torch.load(config['model_path'])\n",
    "my_model.load_state_dict(model_state_dict)\n",
    "\n",
    "likelihood_state_dict = torch.load(config['likelihood_path'])\n",
    "my_likelihood.load_state_dict(likelihood_state_dict)"
   ]
  },
  {
   "cell_type": "markdown",
   "metadata": {},
   "source": [
    "# Load in dataset"
   ]
  },
  {
   "cell_type": "code",
   "execution_count": 4,
   "metadata": {},
   "outputs": [],
   "source": [
    "if config['dataset_type'] == 'synthetic_regression':\n",
    "        data_inputs, data_Y_squeezed, ls_of_ls_train_input, ls_of_ls_test_input, train_sample_idx_ls, test_sample_idx_ls = prepare_synthetic_regression_data(config)"
   ]
  },
  {
   "cell_type": "markdown",
   "metadata": {},
   "source": [
    "# Prediction function"
   ]
  },
  {
   "cell_type": "code",
   "execution_count": 5,
   "metadata": {},
   "outputs": [],
   "source": [
    "from linear_operator.operators import CholLinearOperator, KroneckerProductLinearOperator\n",
    "from linear_operator.operators import (\n",
    "    LinearOperator,\n",
    "    TriangularLinearOperator,\n",
    ")\n",
    "from gpytorch.settings import _linalg_dtype_cholesky\n",
    "\n",
    "def _cholesky_factor(induc_induc_covar: LinearOperator) -> TriangularLinearOperator:\n",
    "    L = psd_safe_cholesky(to_dense(induc_induc_covar).type(_linalg_dtype_cholesky.value()), max_tries=4)\n",
    "    return TriangularLinearOperator(L)\n",
    "\n",
    "K_uu_latent = my_model.covar_module_latent(my_model.variational_strategy.inducing_points_latent.data).to_dense().to(torch.float64)\n",
    "K_uu_latent_inv = torch.linalg.solve(K_uu_latent, torch.eye(K_uu_latent.size(-1)).to(torch.float64))\n",
    "K_uu_input = my_model.covar_module_input(my_model.variational_strategy.inducing_points_input.data).to_dense().to(torch.float64)\n",
    "K_uu_input_inv = torch.linalg.solve(K_uu_input, torch.eye(K_uu_input.size(-1)).to(torch.float64))\n",
    "\n",
    "K_uu = KroneckerProductLinearOperator(K_uu_latent, K_uu_input).to_dense().data\n",
    "# chol_K_uu_inv_t = _cholesky_factor_latent(KroneckerProductLinearOperator(K_uu_latent_inv, K_uu_input_inv)).to_dense().data.t()\n",
    "chol_K_uu_inv_t = KroneckerProductLinearOperator(\n",
    "        torch.linalg.solve( _cholesky_factor(K_uu_latent).to_dense().data, torch.eye(K_uu_latent.size(-1)).to(torch.float64)),\n",
    "        torch.linalg.solve( _cholesky_factor(K_uu_input).to_dense().data, torch.eye(K_uu_input.size(-1)).to(torch.float64)),\n",
    "    ).to_dense().data.t()\n",
    "# ------------------------------------------------------------------------------------------------------------------------------------------------------------------\n",
    "\n",
    "chol_covar_latent_u = my_model.variational_strategy._variational_distribution.chol_variational_covar_latent.data.to(torch.float64)\n",
    "covar_latent_u = CholLinearOperator(chol_covar_latent_u).to_dense()\n",
    "chol_covar_input_u = my_model.variational_strategy._variational_distribution.chol_variational_covar_input.data.to(torch.float64)\n",
    "covar_input_u = CholLinearOperator(chol_covar_input_u).to_dense()\n",
    "\n",
    "covar_u = KroneckerProductLinearOperator(covar_latent_u, covar_input_u).to_dense().data\n",
    "\n",
    "# ------------------------------------------------------------------------------------------------------------------------------------------------------------------\n",
    "\n",
    "common_background_information = {\n",
    "                    'K_uu': K_uu.data,\n",
    "                    'chol_K_uu_inv_t': chol_K_uu_inv_t.data, \n",
    "                    'm_u': my_model.variational_strategy._variational_distribution.variational_mean.data,\n",
    "                    'Sigma_u': covar_u.data,\n",
    "                    'A': chol_K_uu_inv_t @ (covar_u - torch.eye(covar_u.shape[0])) @ chol_K_uu_inv_t.t(),\n",
    "                    'var_H': my_model.covar_module_latent.outputscale.data,\n",
    "                    'var_X': my_model.covar_module_input.outputscale.data,\n",
    "                    'W': my_model.covar_module_latent.base_kernel.lengthscale.data.reshape(-1)**2\n",
    "                    }\n",
    "'''\n",
    "chol_K_uu_inv_t: inverse of K_uu matrix, of shape (M_H * M_X, M_H * M_X)\n",
    "m_u: mean of the variational distribution\n",
    "Sigma_u: covariance matrix of the variational distribution\n",
    "A: chol_K_uu_inv_t (Sigma_u - K_uu) chol_K_uu_inv_t.T\n",
    "var_H: \n",
    "var_X: \n",
    "W: vector; containing all lengthscales in the RAD kernel\n",
    "c: constant\n",
    "'''\n",
    "c = (2 * torch.pi)**(config['latent_dim'] / 2) * common_background_information['var_H'] * common_background_information['W'].sqrt().prod()\n",
    "common_background_information['constant_c'] = c\n",
    "\n",
    "#### #### #### #### #### #### #### #### #### #### #### #### #### #### #### #### #### #### #### #### #### #### #### #### #### #### #### #### \n",
    "\n",
    "def integration_prediction_func(test_input, output_index, my_model, common_background_information=common_background_information):\n",
    "\n",
    "    input_K_f_u = my_model.covar_module_input(test_input, my_model.variational_strategy.inducing_points_input.data).to_dense().data\n",
    "    input_K_u_f_K_f_u = input_K_f_u.t() @ input_K_f_u\n",
    "\n",
    "    data_specific_background_information = {\n",
    "            'm_plus': my_model.X.q_mu.data[output_index],\n",
    "            'Sigma_plus': 1.0 * my_model.X.q_log_sigma.exp().square().data[output_index],\n",
    "            'input_K_f_u': input_K_f_u, \n",
    "            'input_K_u_f_K_f_u': input_K_u_f_K_f_u,\n",
    "            'expectation_K_uu': None\n",
    "    }\n",
    "    \n",
    "    # helper functions -----------------------------------------------------------------------------------------------------------------------\n",
    "    def multivariate_gaussian_pdf(x, mu, cov):\n",
    "        '''cov is a vector, representing all elements in the diagonal matrix'''\n",
    "        k = mu.size(0)\n",
    "        cov_det = cov.prod()\n",
    "        cov_inv = torch.diag(1.0 / cov)\n",
    "        norm_factor = torch.sqrt((2 * torch.pi) ** k * cov_det)\n",
    "\n",
    "        x_mu = x - mu\n",
    "        result = torch.exp(-0.5 * x_mu @ cov_inv @ x_mu.t()) / norm_factor\n",
    "        return result.item()\n",
    "\n",
    "    def G(h:Tensor, common_background_information=common_background_information, data_specific_background_information=data_specific_background_information):\n",
    "\n",
    "        mu = data_specific_background_information['m_plus']\n",
    "        cov_diag = data_specific_background_information['Sigma_plus'] + common_background_information['W']\n",
    "        result = multivariate_gaussian_pdf(h, mu, cov_diag)\n",
    "        return common_background_information['constant_c'] * result\n",
    "\n",
    "    def R(h_1:Tensor, h_2:Tensor, common_background_information=common_background_information, data_specific_background_information=data_specific_background_information):\n",
    "        mu_1 = h_2\n",
    "        cov_diag_1 = 2 * common_background_information['W']\n",
    "        mu_2 = (h_1 + h_2) / 2\n",
    "        cov_diag_2 = 0.5 * common_background_information['W'] + data_specific_background_information['Sigma_plus']\n",
    "        result1 = multivariate_gaussian_pdf(h_1, mu_1, cov_diag_1)\n",
    "        result2 = multivariate_gaussian_pdf(data_specific_background_information['m_plus'], mu_2, cov_diag_2)\n",
    "        return (common_background_information['constant_c'] ** 2 ) * result1 * result2\n",
    "    \n",
    "    def expectation_lambda(common_background_information=common_background_information, data_specific_background_information=data_specific_background_information):\n",
    "        result_ = KroneckerProductLinearOperator(data_specific_background_information['expectation_latent_K_f_u'].reshape(1, -1), data_specific_background_information['input_K_f_u'].reshape(1, -1)).to_dense().data \n",
    "        result_ = result_ @ common_background_information['chol_K_uu_inv_t'].to(result_.dtype) @ common_background_information['m_u'].to(result_.dtype)\n",
    "        return result_\n",
    "        \n",
    "    def expectation_lambda_square(common_background_information=common_background_information, data_specific_background_information=data_specific_background_information):\n",
    "        result_ = common_background_information['m_u']\n",
    "        _result = result_ @ common_background_information['chol_K_uu_inv_t'].t().to(result_.dtype)\n",
    "        interm_term = KroneckerProductLinearOperator(data_specific_background_information['expectation_latent_K_u_f_K_f_u'], data_specific_background_information['input_K_u_f_K_f_u']).to_dense().data\n",
    "        result_ = _result @ interm_term.to(result_.dtype) @ _result.t()\n",
    "        # result_ = result_ @ common_background_information['chol_K_uu_inv_t'].to(result_.dtype) @ common_background_information['m_u']\n",
    "\n",
    "        if data_specific_background_information['expectation_K_uu'] == None:\n",
    "            data_specific_background_information['expectation_K_uu'] = interm_term\n",
    "        return result_\n",
    "        \n",
    "    def expectation_gamma(common_background_information=common_background_information, data_specific_background_information=data_specific_background_information):\n",
    "        result_ = common_background_information['var_H'] * common_background_information['var_X']\n",
    "\n",
    "        if data_specific_background_information['expectation_K_uu'] == None:\n",
    "            data_specific_background_information['expectation_K_uu'] = KroneckerProductLinearOperator(data_specific_background_information['expectation_latent_K_u_f_K_f_u'], \\\n",
    "                                                                                                    data_specific_background_information['input_K_u_f_K_f_u']).to_dense().data\n",
    "\n",
    "        return result_ + (common_background_information['A'] * data_specific_background_information['expectation_K_uu']).sum()\n",
    "    \n",
    "    def integration_predictive_mean(common_background_information=common_background_information, data_specific_background_information=data_specific_background_information):\n",
    "        return expectation_lambda(common_background_information=common_background_information, data_specific_background_information=data_specific_background_information)\n",
    "\n",
    "\n",
    "    def integration_predictive_var(common_background_information=common_background_information, data_specific_background_information=data_specific_background_information):\n",
    "        return expectation_lambda_square(common_background_information=common_background_information, data_specific_background_information=data_specific_background_information) \\\n",
    "            + expectation_gamma(common_background_information=common_background_information, data_specific_background_information=data_specific_background_information) \\\n",
    "            - expectation_lambda(common_background_information=common_background_information, data_specific_background_information=data_specific_background_information)**2\n",
    "    \n",
    "    # ----------------------------------------------------------------------------------------------------------------------------------------------------------------------------------------------------\n",
    "    \n",
    "    expectation_latent_K_f_u = Tensor([G(my_model.variational_strategy.inducing_points_latent.data[i]).item() for i in range(config['n_inducing_latent'])])\n",
    "    expectation_latent_K_u_f_K_f_u = Tensor([R(my_model.variational_strategy.inducing_points_latent.data[i], my_model.variational_strategy.inducing_points_latent.data[j]).item() \\\n",
    "                                            for j in range(config['n_inducing_latent']) for i in range(config['n_inducing_latent'])]).reshape(config['n_inducing_latent'], config['n_inducing_latent'])\n",
    "\n",
    "    data_specific_background_information['expectation_latent_K_f_u'] = expectation_latent_K_f_u\n",
    "    data_specific_background_information['expectation_latent_K_u_f_K_f_u'] = expectation_latent_K_u_f_K_f_u\n",
    "\n",
    "    return integration_predictive_mean(data_specific_background_information=data_specific_background_information), \\\n",
    "           integration_predictive_var(data_specific_background_information=data_specific_background_information)\n",
    "\n"
   ]
  },
  {
   "cell_type": "markdown",
   "metadata": {},
   "source": [
    "# Testing via integration"
   ]
  },
  {
   "cell_type": "code",
   "execution_count": 6,
   "metadata": {},
   "outputs": [
    {
     "name": "stderr",
     "output_type": "stream",
     "text": [
      "  0%|          | 0/5000 [00:00<?, ?it/s]"
     ]
    },
    {
     "name": "stderr",
     "output_type": "stream",
     "text": [
      "100%|██████████| 5000/5000 [03:43<00:00, 22.39it/s]\n"
     ]
    }
   ],
   "source": [
    "my_model.eval()\n",
    "my_likelihood.eval()\n",
    "\n",
    "all_index_latent = np.array([[i]*config['n_input'] for i in range(config['n_outputs'])]).reshape(-1).tolist() \n",
    "all_index_input = [i for i in range(config['n_input'])] * config['n_outputs'] \n",
    "len_outputs = len(all_index_latent)\n",
    "assert len_outputs == len(all_index_input)\n",
    "\n",
    "all_pred_mean = torch.zeros(len_outputs)\n",
    "all_pred_var = torch.zeros(len_outputs)\n",
    "\n",
    "# iteratively inference\n",
    "for idx in trange(len_outputs, leave=True):\n",
    "    curr_latent_index = all_index_latent[idx]\n",
    "    curr_input = data_inputs[all_index_input[idx]].reshape(-1)\n",
    "    curr_pred_mean, curr_pred_var = integration_prediction_func(test_input=curr_input,\n",
    "                                                                output_index=curr_latent_index,\n",
    "                                                                my_model=my_model,\n",
    "                                                                common_background_information=common_background_information)\n",
    "    all_pred_mean[idx] = curr_pred_mean\n",
    "    all_pred_var[idx] = curr_pred_var + my_likelihood.noise.data\n",
    "    "
   ]
  },
  {
   "cell_type": "code",
   "execution_count": 146,
   "metadata": {},
   "outputs": [
    {
     "name": "stderr",
     "output_type": "stream",
     "text": [
      "100%|██████████| 20000/20000 [14:58<00:00, 22.27it/s]\n"
     ]
    }
   ],
   "source": [
    "# finer grid for better visualization ... nothing to do with RMSE computation ...\n",
    " \n",
    "n_data4visual = 200\n",
    "inputs_total4visual = Tensor(np.linspace(config['init_inducing_input_LB'], config['init_inducing_input_UB'], n_data4visual))\n",
    "all_index_latent4visual = np.array([[i]*n_data4visual for i in range(config['n_outputs'])]).reshape(-1).tolist() \n",
    "all_index_input4visual = [i for i in range(n_data4visual)] * config['n_outputs'] \n",
    "\n",
    "len_outputs4visual = len(all_index_latent4visual)\n",
    "assert len_outputs4visual == len(all_index_input4visual)\n",
    "\n",
    "all_pred_mean4visual = torch.zeros(len_outputs4visual)\n",
    "all_pred_var4visual = torch.zeros(len_outputs4visual)\n",
    "\n",
    "# iteratively inference\n",
    "for idx in trange(len_outputs4visual, leave=True):\n",
    "    curr_latent_index4visual = all_index_latent4visual[idx]\n",
    "    curr_input4visual = inputs_total4visual[all_index_input4visual[idx]].reshape(-1)\n",
    "    curr_pred_mean4visual, curr_pred_var4visual = integration_prediction_func(test_input=curr_input4visual,\n",
    "                                                                output_index=curr_latent_index4visual,\n",
    "                                                                my_model=my_model,\n",
    "                                                                common_background_information=common_background_information)\n",
    "    all_pred_mean4visual[idx] = curr_pred_mean4visual\n",
    "    all_pred_var4visual[idx] = curr_pred_var4visual + my_likelihood.noise.data\n",
    "    "
   ]
  },
  {
   "cell_type": "markdown",
   "metadata": {},
   "source": [
    "## Train/Test data RMSE"
   ]
  },
  {
   "cell_type": "code",
   "execution_count": 7,
   "metadata": {},
   "outputs": [
    {
     "name": "stdout",
     "output_type": "stream",
     "text": [
      "Global Train RMSE tensor(0.2783)\n",
      "Global Test RMSE tensor(0.4168)\n"
     ]
    }
   ],
   "source": [
    "train_data_predict = all_pred_mean[train_sample_idx_ls]\n",
    "train_rmse = (train_data_predict - data_Y_squeezed[train_sample_idx_ls]).square().mean().sqrt()\n",
    "print('Global Train RMSE', train_rmse)\n",
    "\n",
    "w_test_data_predict = all_pred_mean[test_sample_idx_ls]\n",
    "test_rmse = (w_test_data_predict - data_Y_squeezed[test_sample_idx_ls]).square().mean().sqrt()\n",
    "print('Global Test RMSE', test_rmse)"
   ]
  },
  {
   "cell_type": "markdown",
   "metadata": {},
   "source": [
    "## Train/Test data NLL"
   ]
  },
  {
   "cell_type": "code",
   "execution_count": 8,
   "metadata": {},
   "outputs": [
    {
     "name": "stdout",
     "output_type": "stream",
     "text": [
      "Global Train negative log likelihood: tensor(0.0325)\n",
      "Global Test negative log likelihood: tensor(0.4319)\n"
     ]
    }
   ],
   "source": [
    "train_nll = neg_log_likelihood(Target=data_Y_squeezed[train_sample_idx_ls], GaussianMean=all_pred_mean[train_sample_idx_ls], GaussianVar=all_pred_var[train_sample_idx_ls])\n",
    "test_nll = neg_log_likelihood(Target=data_Y_squeezed[test_sample_idx_ls], GaussianMean=all_pred_mean[test_sample_idx_ls], GaussianVar=all_pred_var[test_sample_idx_ls])\n",
    "\n",
    "print('Global Train negative log likelihood:', train_nll)\n",
    "print('Global Test negative log likelihood:', test_nll)"
   ]
  },
  {
   "cell_type": "markdown",
   "metadata": {},
   "source": [
    "## Visual Inspect"
   ]
  },
  {
   "cell_type": "code",
   "execution_count": 147,
   "metadata": {},
   "outputs": [],
   "source": [
    "def evaluate_on_single_output(w_function_index):\n",
    "    # Pick the index of the funtion to show\n",
    "    # w_function_index = 982\n",
    "\n",
    "    performance_dirct = {}\n",
    "    w_train_input = data_inputs[ls_of_ls_train_input[w_function_index]]\n",
    "    w_train_start = 0\n",
    "    for i in range(w_function_index):\n",
    "        w_train_start += len(ls_of_ls_train_input[i]) # don't assume every output has the same length of inputs\n",
    "    w_train_end = w_train_start + len(ls_of_ls_train_input[w_function_index])\n",
    "    w_train_target = data_Y_squeezed[train_sample_idx_ls][w_train_start:w_train_end]\n",
    "    w_train_predict = train_data_predict[w_train_start:w_train_end]\n",
    "    train_rmse_ = (w_train_target - w_train_predict).square().mean().sqrt()\n",
    "    train_nll_ = neg_log_likelihood(w_train_target, all_pred_mean[train_sample_idx_ls][w_train_start:w_train_end], all_pred_var[train_sample_idx_ls][w_train_start:w_train_end])\n",
    "    # print('train rmse', train_rmse_)\n",
    "    # print('train nll:', train_nll_)\n",
    "    performance_dirct['train_rmse'] = train_rmse_\n",
    "    performance_dirct['train_nll'] = train_nll_\n",
    "\n",
    "    w_test_input = data_inputs[ls_of_ls_test_input[w_function_index]]\n",
    "    w_test_start = 0\n",
    "    for j in range(w_function_index):\n",
    "        w_test_start += len(ls_of_ls_test_input[i])\n",
    "    w_test_end = w_test_start + len(ls_of_ls_test_input[w_function_index])\n",
    "    w_test_target = data_Y_squeezed[test_sample_idx_ls][w_test_start:w_test_end]\n",
    "    w_test_predict = w_test_data_predict[w_test_start:w_test_end]\n",
    "    test_rmse_ = (w_test_predict - w_test_target).square().mean().sqrt()\n",
    "    test_nll_ = neg_log_likelihood(w_test_target, all_pred_mean[test_sample_idx_ls][w_test_start:w_test_end], all_pred_var[test_sample_idx_ls][w_test_start:w_test_end])\n",
    "    # print('test rmse', test_rmse_)\n",
    "    # print('test nll', test_nll_)\n",
    "    performance_dirct['test_rmse'] = test_rmse_\n",
    "    performance_dirct['test_nll'] = test_nll_\n",
    "\n",
    "    w_gp_input = data_inputs\n",
    "    w_gp_start = w_gp_input.shape[0] * w_function_index\n",
    "    w_gp_end = w_gp_start + w_gp_input.shape[0]\n",
    "    w_gp_target = data_Y_squeezed[w_gp_start:w_gp_end]\n",
    "\n",
    "    # NOTE: comment these since bad visualization ... \n",
    "    # w_gp_pred_mean = all_pred_mean[w_gp_start:w_gp_end]\n",
    "    # w_gp_pred_std = all_pred_var[w_gp_start:w_gp_end]\n",
    "\n",
    "    w_gp4visual_start = n_data4visual * w_function_index\n",
    "    w_gp4visual_end = n_data4visual * (w_function_index + 1)\n",
    "    w_gp_pred_mean = all_pred_mean4visual[w_gp4visual_start:w_gp4visual_end]\n",
    "    w_gp_pred_std = all_pred_var4visual.sqrt()[w_gp4visual_start:w_gp4visual_end]\n",
    "\n",
    "    return w_train_input, w_train_target, w_test_input, w_test_target, w_gp_pred_mean, w_gp_pred_std, performance_dirct\n",
    "    "
   ]
  },
  {
   "cell_type": "markdown",
   "metadata": {},
   "source": [
    "## Loop over all function index"
   ]
  },
  {
   "cell_type": "code",
   "execution_count": 148,
   "metadata": {},
   "outputs": [],
   "source": [
    "train_rmse_list = [] # list of tensors\n",
    "test_rmse_list = []\n",
    "train_nll_list = []\n",
    "test_nll_list = []\n",
    "for output_index in range(config['n_outputs']):\n",
    "    _, _, _, _, _, _, performance_dirct = evaluate_on_single_output(output_index)\n",
    "    train_rmse_list.append(performance_dirct['train_rmse'])\n",
    "    test_rmse_list.append(performance_dirct['test_rmse'])\n",
    "    train_nll_list.append(performance_dirct['train_nll'])\n",
    "    test_nll_list.append(performance_dirct['test_nll'])"
   ]
  },
  {
   "cell_type": "code",
   "execution_count": 149,
   "metadata": {},
   "outputs": [],
   "source": [
    "def find_median_index(lst):\n",
    "    sorted_lst = sorted(lst)\n",
    "    n = len(lst)\n",
    "    \n",
    "    if n % 2 != 0:\n",
    "        median = sorted_lst[n // 2]\n",
    "        return lst.index(median)\n",
    "    else:\n",
    "        mid1 = sorted_lst[n // 2 - 1]\n",
    "        mid2 = sorted_lst[n // 2]\n",
    "        \n",
    "        return lst.index(mid1)  # lst.index(mid2)"
   ]
  },
  {
   "cell_type": "code",
   "execution_count": 150,
   "metadata": {},
   "outputs": [
    {
     "name": "stdout",
     "output_type": "stream",
     "text": [
      "The output index with WORSE test rmse performance:  10\n",
      "The output index with WORSE test nll performance:  10\n",
      "------------------------------------------------------------\n",
      "The output index with MIDDLE test rmse performance: 4\n",
      "The output index with MIDDLE test nll performance: 65\n",
      "------------------------------------------------------------\n",
      "The output index with BEST test rmse performance:  14\n",
      "The output index with BEST test nll performance:  14\n"
     ]
    }
   ],
   "source": [
    "print('The output index with WORSE test rmse performance: ', test_rmse_list.index(max(test_rmse_list)))\n",
    "print('The output index with WORSE test nll performance: ', test_nll_list.index(max(test_nll_list)))\n",
    "print('------' * 10)\n",
    "print('The output index with MIDDLE test rmse performance:', find_median_index(test_rmse_list))\n",
    "print('The output index with MIDDLE test nll performance:', find_median_index(test_nll_list))\n",
    "print('------' * 10)\n",
    "print('The output index with BEST test rmse performance: ', test_rmse_list.index(min(test_rmse_list)))\n",
    "print('The output index with BEST test nll performance: ', test_nll_list.index(min(test_nll_list)))"
   ]
  },
  {
   "cell_type": "code",
   "execution_count": 157,
   "metadata": {},
   "outputs": [
    {
     "data": {
      "image/png": "[encoded data removed]",
      "text/plain": [
       "<Figure size 640x480 with 1 Axes>"
      ]
     },
     "metadata": {},
     "output_type": "display_data"
    }
   ],
   "source": [
    "function_index = 12\n",
    "w_train_input, w_train_target, w_test_input, w_test_target, w_gp_pred_mean, w_gp_pred_std, performance_dirct = evaluate_on_single_output(function_index)\n",
    "picture_save_path = f'/Users/jiangxiaoyu/Desktop/All Projects/GPLVM_project_code/experi_results/func_id_{function_index}_numofoutput_{config[\"n_outputs\"]}.png'\n",
    "plot_traindata_testdata_fittedgp(train_X=w_train_input, train_Y=w_train_target, test_X=w_test_input, test_Y=w_test_target, gp_X=inputs_total4visual, gp_pred_mean=w_gp_pred_mean, gp_pred_std=w_gp_pred_std, inducing_points_X=my_model.variational_strategy.inducing_points_input.data, n_inducing_C=config['n_inducing_input'], picture_save_path=picture_save_path) # NOTE: input is C not X"
   ]
  },
  {
   "cell_type": "markdown",
   "metadata": {},
   "source": [
    "# Debugging"
   ]
  },
  {
   "cell_type": "code",
   "execution_count": 131,
   "metadata": {},
   "outputs": [
    {
     "name": "stdout",
     "output_type": "stream",
     "text": [
      "tensor([[ 1.2369, -0.3837],\n",
      "        [-0.8744,  1.1158]])\n"
     ]
    }
   ],
   "source": [
    "test_input = Tensor([-6.5])\n",
    "\n",
    "input_K_f_u = my_model.covar_module_input(test_input, my_model.variational_strategy.inducing_points_input.data).to_dense().data\n",
    "input_K_u_f_K_f_u = input_K_f_u.t() @ input_K_f_u\n",
    "\n",
    "data_specific_background_information = {\n",
    "        'm_plus': my_model.X.q_mu.data[90],\n",
    "        'Sigma_plus': 1.0 * my_model.X.q_log_sigma.exp().square().data[0],\n",
    "        'input_K_f_u': input_K_f_u, \n",
    "        'input_K_u_f_K_f_u': input_K_u_f_K_f_u,\n",
    "        'expectation_K_uu': None\n",
    "}\n",
    "\n",
    "H_test = my_model.variational_strategy.inducing_points_latent.data[-1]\n",
    "\n",
    "# print(H_test)\n",
    "# print(data_specific_background_information['m_plus'])\n",
    "H_concate = torch.concatenate((H_test, data_specific_background_information['m_plus'])).reshape(2,2)\n",
    "print(H_concate)"
   ]
  },
  {
   "cell_type": "markdown",
   "metadata": {},
   "source": [
    "## Testing function G"
   ]
  },
  {
   "cell_type": "code",
   "execution_count": 132,
   "metadata": {},
   "outputs": [],
   "source": [
    "def multivariate_gaussian_pdf(x, mu, cov):\n",
    "        '''cov is a vector, representing all elements in the diagonal matrix'''\n",
    "        # x = x.to(torch.double)\n",
    "        # mu = mu.to(torch.double)\n",
    "        # cov = cov.to(torch.double)\n",
    "\n",
    "        k = mu.size(0)\n",
    "        cov_det = cov.prod()\n",
    "        cov_inv = torch.diag(1.0 / cov)\n",
    "        norm_factor = torch.sqrt((2 * torch.pi) ** k * cov_det)\n",
    "\n",
    "        x_mu = x - mu\n",
    "        result = torch.exp(-0.5 * x_mu @ cov_inv @ x_mu.t()) / norm_factor\n",
    "        return result.item()\n",
    "\n",
    "def G(h:Tensor, common_background_information=common_background_information, data_specific_background_information=data_specific_background_information):\n",
    "\n",
    "        mu = data_specific_background_information['m_plus']\n",
    "        cov_diag = data_specific_background_information['Sigma_plus'] + common_background_information['W']\n",
    "        result = multivariate_gaussian_pdf(h, mu, cov_diag)\n",
    "        return common_background_information['constant_c'] * result"
   ]
  },
  {
   "cell_type": "code",
   "execution_count": 133,
   "metadata": {},
   "outputs": [],
   "source": [
    "# a = my_model.covar_module_latent.outputscale.data\n",
    "# b = my_model.covar_module_latent.base_kernel.lengthscale.data[0]\n",
    "# print(a)\n",
    "# print(b)\n",
    "# a * np.exp( -0.5 * ( ((H_concate[0][0] - H_concate[1][0]) / b[0])**2 + ((H_concate[1][0] - H_concate[1][0]) / b[0])**2 ) )"
   ]
  },
  {
   "cell_type": "code",
   "execution_count": 134,
   "metadata": {},
   "outputs": [
    {
     "data": {
      "text/plain": [
       "tensor([[8.4719e-01, 1.2907e-04],\n",
       "        [1.2907e-04, 8.4719e-01]])"
      ]
     },
     "execution_count": 134,
     "metadata": {},
     "output_type": "execute_result"
    }
   ],
   "source": [
    "# Ground Truth\n",
    "\n",
    "my_model.covar_module_latent(H_concate).to_dense().data"
   ]
  },
  {
   "cell_type": "code",
   "execution_count": 135,
   "metadata": {},
   "outputs": [
    {
     "data": {
      "text/plain": [
       "tensor(0.0001)"
      ]
     },
     "execution_count": 135,
     "metadata": {},
     "output_type": "execute_result"
    }
   ],
   "source": [
    "# to test\n",
    "G(H_test)"
   ]
  },
  {
   "cell_type": "code",
   "execution_count": 136,
   "metadata": {},
   "outputs": [
    {
     "data": {
      "text/plain": [
       "tensor([3.6383e-03, 7.4513e-03, 5.7119e-02, 1.2134e-02, 5.5787e-03, 4.7943e-05,\n",
       "        2.9643e-01, 2.7031e-01, 1.0004e-01, 2.8716e-01, 2.7085e-03, 5.4258e-01,\n",
       "        2.6272e-05, 4.6681e-04, 4.9462e-01, 1.0048e-04, 1.9835e-03, 6.0721e-01,\n",
       "        1.1167e-01, 7.4552e-02, 4.5224e-02, 6.1597e-07, 1.2430e-06, 2.8809e-03,\n",
       "        1.0139e-01, 4.1192e-04, 6.7494e-02, 1.3546e-05, 3.6136e-08, 1.3386e-04])"
      ]
     },
     "execution_count": 136,
     "metadata": {},
     "output_type": "execute_result"
    }
   ],
   "source": [
    "Tensor([G(my_model.variational_strategy.inducing_points_latent.data[i]).item() for i in range(config['n_inducing_latent'])])"
   ]
  },
  {
   "cell_type": "markdown",
   "metadata": {},
   "source": [
    "## Testing function R "
   ]
  },
  {
   "cell_type": "code",
   "execution_count": 137,
   "metadata": {},
   "outputs": [],
   "source": [
    "def R(h_1:Tensor, h_2:Tensor, common_background_information=common_background_information, data_specific_background_information=data_specific_background_information):\n",
    "    mu_1 = h_2\n",
    "    cov_diag_1 = 2 * common_background_information['W']\n",
    "    mu_2 = (h_1 + h_2) / 2\n",
    "    cov_diag_2 = 0.5 * common_background_information['W'] + data_specific_background_information['Sigma_plus']\n",
    "    result1 = multivariate_gaussian_pdf(h_1, mu_1, cov_diag_1)\n",
    "    result2 = multivariate_gaussian_pdf(data_specific_background_information['m_plus'], mu_2, cov_diag_2)\n",
    "    return (common_background_information['constant_c'] ** 2 ) * result1 * result2\n",
    "\n",
    "def R_(h_1:Tensor, h_2:Tensor, common_background_information=common_background_information, data_specific_background_information=data_specific_background_information):\n",
    "    mu_1 = h_2\n",
    "    cov_diag_1 = 2 * common_background_information['W']\n",
    "    mu_2 = (h_1 + h_2) / 2\n",
    "    cov_diag_2 = 0.5 * common_background_information['W']\n",
    "    result1 = multivariate_gaussian_pdf(h_1, mu_1, cov_diag_1)\n",
    "    result2 = multivariate_gaussian_pdf(data_specific_background_information['m_plus'], mu_2, cov_diag_2)\n",
    "    return (common_background_information['constant_c'] ** 2 ) * result1 * result2\n",
    "    "
   ]
  },
  {
   "cell_type": "code",
   "execution_count": 138,
   "metadata": {},
   "outputs": [],
   "source": [
    "h1_test = my_model.variational_strategy.inducing_points_latent.data[14]\n",
    "h2_test = my_model.variational_strategy.inducing_points_latent.data[3]"
   ]
  },
  {
   "cell_type": "code",
   "execution_count": 139,
   "metadata": {},
   "outputs": [
    {
     "data": {
      "text/plain": [
       "tensor(0.0060)"
      ]
     },
     "execution_count": 139,
     "metadata": {},
     "output_type": "execute_result"
    }
   ],
   "source": [
    "R(h1_test, h2_test)"
   ]
  },
  {
   "cell_type": "code",
   "execution_count": 140,
   "metadata": {},
   "outputs": [
    {
     "data": {
      "text/plain": [
       "tensor(0.0059)"
      ]
     },
     "execution_count": 140,
     "metadata": {},
     "output_type": "execute_result"
    }
   ],
   "source": [
    "R_(h1_test, h2_test)"
   ]
  },
  {
   "cell_type": "markdown",
   "metadata": {},
   "source": [
    "## Testing expectation lambda"
   ]
  },
  {
   "cell_type": "code",
   "execution_count": 141,
   "metadata": {},
   "outputs": [
    {
     "data": {
      "text/plain": [
       "tensor([0.5702])"
      ]
     },
     "execution_count": 141,
     "metadata": {},
     "output_type": "execute_result"
    }
   ],
   "source": [
    "expectation_latent_K_f_u = Tensor([G(my_model.variational_strategy.inducing_points_latent.data[i]).item() for i in range(config['n_inducing_latent'])])\n",
    "expectation_latent_K_u_f_K_f_u = Tensor([R(my_model.variational_strategy.inducing_points_latent.data[i], my_model.variational_strategy.inducing_points_latent.data[j]).item() \\\n",
    "                                        for j in range(config['n_inducing_latent']) for i in range(config['n_inducing_latent'])]).reshape(config['n_inducing_latent'], config['n_inducing_latent'])\n",
    "\n",
    "data_specific_background_information['expectation_latent_K_f_u'] = expectation_latent_K_f_u\n",
    "data_specific_background_information['expectation_latent_K_u_f_K_f_u'] = expectation_latent_K_u_f_K_f_u\n",
    "\n",
    "def expectation_lambda(common_background_information=common_background_information, data_specific_background_information=data_specific_background_information):\n",
    "    result_ = KroneckerProductLinearOperator(data_specific_background_information['expectation_latent_K_f_u'].reshape(1, -1), data_specific_background_information['input_K_f_u'].reshape(1, -1)).to_dense().data \n",
    "    result_ = result_ @ common_background_information['chol_K_uu_inv_t'].to(result_.dtype) @ common_background_information['m_u'].to(result_.dtype)\n",
    "    return result_\n",
    "\n",
    "# to test\n",
    "expectation_lambda()"
   ]
  },
  {
   "cell_type": "code",
   "execution_count": 142,
   "metadata": {},
   "outputs": [
    {
     "name": "stdout",
     "output_type": "stream",
     "text": [
      "tensor([0.5729], dtype=torch.float64)\n"
     ]
    }
   ],
   "source": [
    "# Ground Truth\n",
    "H_induc = my_model.variational_strategy.inducing_points_latent.data\n",
    "H_concate = torch.concatenate((data_specific_background_information['m_plus'].reshape(1, 2), H_induc), axis=0)\n",
    "K_H_f_u = my_model.covar_module_latent(H_concate).to_dense().data[0, 1:].reshape(1, -1)\n",
    "\n",
    "intern_term = (KroneckerProductLinearOperator(K_H_f_u, data_specific_background_information['input_K_f_u']).to_dense().data).to(torch.double)\n",
    "intern_term_2 = common_background_information['chol_K_uu_inv_t'].to(torch.double) @ common_background_information['m_u'].to(torch.double)\n",
    "print(intern_term @ intern_term_2)"
   ]
  },
  {
   "cell_type": "markdown",
   "metadata": {},
   "source": [
    "## Testing expectation lambda square"
   ]
  },
  {
   "cell_type": "code",
   "execution_count": 143,
   "metadata": {},
   "outputs": [
    {
     "name": "stdout",
     "output_type": "stream",
     "text": [
      "tensor(0.3263)\n"
     ]
    }
   ],
   "source": [
    "def expectation_lambda_square(common_background_information=common_background_information, data_specific_background_information=data_specific_background_information):\n",
    "    result_ = common_background_information['m_u']\n",
    "    _result = result_ @ common_background_information['chol_K_uu_inv_t'].t().to(result_.dtype)\n",
    "    interm_term = KroneckerProductLinearOperator(data_specific_background_information['expectation_latent_K_u_f_K_f_u'], data_specific_background_information['input_K_u_f_K_f_u']).to_dense().data\n",
    "    result_ = _result @ interm_term.to(result_.dtype) @ _result.t()\n",
    "    # result_ = result_ @ common_background_information['chol_K_uu_inv_t'].to(result_.dtype) @ common_background_information['m_u']\n",
    "\n",
    "    if data_specific_background_information['expectation_K_uu'] == None:\n",
    "        data_specific_background_information['expectation_K_uu'] = interm_term\n",
    "    return result_\n",
    "\n",
    "# to test\n",
    "print(expectation_lambda_square())"
   ]
  },
  {
   "cell_type": "markdown",
   "metadata": {},
   "source": [
    "## Testing expectation gamma"
   ]
  },
  {
   "cell_type": "code",
   "execution_count": 144,
   "metadata": {},
   "outputs": [
    {
     "name": "stdout",
     "output_type": "stream",
     "text": [
      "pred mean:  tensor([0.5729], dtype=torch.float64)\n",
      "pred cov:  tensor([0.1756], dtype=torch.float64)\n"
     ]
    }
   ],
   "source": [
    "# Ground Truth\n",
    "pred_dist = my_model(data_specific_background_information['m_plus'].reshape(1, 2), test_input.reshape(1, 1))\n",
    "print('pred mean: ', pred_dist.loc.detach())\n",
    "print('pred cov: ', pred_dist.variance.detach())"
   ]
  },
  {
   "cell_type": "code",
   "execution_count": 145,
   "metadata": {},
   "outputs": [
    {
     "data": {
      "text/plain": [
       "tensor(0.1746, dtype=torch.float64)"
      ]
     },
     "execution_count": 145,
     "metadata": {},
     "output_type": "execute_result"
    }
   ],
   "source": [
    "def expectation_gamma(common_background_information=common_background_information, data_specific_background_information=data_specific_background_information):\n",
    "    result_ = common_background_information['var_H'] * common_background_information['var_X']\n",
    "\n",
    "    if data_specific_background_information['expectation_K_uu'] == None:\n",
    "        data_specific_background_information['expectation_K_uu'] = KroneckerProductLinearOperator(data_specific_background_information['expectation_latent_K_u_f_K_f_u'], \\\n",
    "                                                                                                data_specific_background_information['input_K_u_f_K_f_u']).to_dense().data\n",
    "\n",
    "    return result_ + (common_background_information['A'] * data_specific_background_information['expectation_K_uu']).sum()\n",
    "\n",
    "expectation_gamma()"
   ]
  }
 ],
 "metadata": {
  "kernelspec": {
   "display_name": "GPLVM",
   "language": "python",
   "name": "python3"
  },
  "language_info": {
   "codemirror_mode": {
    "name": "ipython",
    "version": 3
   },
   "file_extension": ".py",
   "mimetype": "text/x-python",
   "name": "python",
   "nbconvert_exporter": "python",
   "pygments_lexer": "ipython3",
   "version": "3.9.18"
  }
 },
 "nbformat": 4,
 "nbformat_minor": 2
}
